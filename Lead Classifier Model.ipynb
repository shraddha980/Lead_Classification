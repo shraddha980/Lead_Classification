{
 "cells": [
  {
   "cell_type": "markdown",
   "id": "b6c8f521",
   "metadata": {},
   "source": [
    "### Lead Classification Model"
   ]
  },
  {
   "cell_type": "markdown",
   "id": "df5868a3",
   "metadata": {},
   "source": [
    "### Problem Statement"
   ]
  },
  {
   "cell_type": "markdown",
   "id": "c7fb15c1",
   "metadata": {},
   "source": [
    "<b>Data</b> : Marekting Data of a Portuguese Bank"
   ]
  },
  {
   "cell_type": "markdown",
   "id": "a6aed144",
   "metadata": {},
   "source": [
    "<b>Problem Statement</b> : "
   ]
  },
  {
   "cell_type": "markdown",
   "id": "168a8c04",
   "metadata": {},
   "source": [
    "- The dataset in focus is the Mareting Dataset of a Portugese Bank consisting information of its customers demographic, past     marekting results, customer contact information and results of current marekting campaign. The dataset yes class corresponds     to customer being converted and no class corresponds to customer being non - convereted.\n",
    "\n",
    "- The problem is to identify if the future customer will convert or not and to seggregate customers into buckets Hot, Warm & \n",
    "    Cold leads to achieve even better taregting.\n",
    "\n",
    "   | True Class      | Positive | Negative |\n",
    "   | ----------      | -------- | -------- |\n",
    "   |Predicted Class  |          |          |\n",
    "   | Positive        |          | Cost_1   |\n",
    "   | Negative        | Cost_2   |          |\n",
    "   "
   ]
  },
  {
   "cell_type": "markdown",
   "id": "1f007711",
   "metadata": {},
   "source": [
    "- The Total cost of a prediction model is the sum of number of instances multiplied by \"Cost_1\" plus the number of instances     of multiplied by \"Cost_2\", resulting in Total_Cost. In this case the Cost_1 refers to the amount marekting spend on a           customer lead who has no chance of getting converted in the future and the amount of marketing spend on customer which was     not required"
   ]
  },
  {
   "cell_type": "markdown",
   "id": "f1e5b046",
   "metadata": {},
   "source": [
    "- <b>Total_Cost</b> = Cost_1 * Instances + Cost_2 * Instances"
   ]
  },
  {
   "cell_type": "markdown",
   "id": "91d2a1b8",
   "metadata": {},
   "source": [
    "- From the above scenario we need to reduce both False Positive and False Negative as we have to avoid spending money on customers unlikely to be converted as well we want to spend money on customers who could be converted. This also depends on the marketing money that we have decided to spend in the first place."
   ]
  },
  {
   "cell_type": "markdown",
   "id": "83bd98b8",
   "metadata": {},
   "source": [
    "### Challenges and other Objectives"
   ]
  },
  {
   "cell_type": "markdown",
   "id": "755056b7",
   "metadata": {},
   "source": [
    "- Need to handle imbalance of Targte Variable\n",
    "- Need to get good Precision, Recall and F1 Score\n",
    "- Accuracy can be mediocre\n",
    "- Misclassification leads to wrong allotment of Marketing Funds"
   ]
  },
  {
   "cell_type": "markdown",
   "id": "dc6987bb",
   "metadata": {},
   "source": [
    "### Benefits of this Project"
   ]
  },
  {
   "cell_type": "markdown",
   "id": "49258d38",
   "metadata": {},
   "source": [
    "- Determine Appropriate Target Customer Based Marketing Campaign\n",
    "- Allocation Cost to Marketing Campaign as per Target Leads\n",
    "- Determing New Products\n",
    "- Saving on Marketing Costs"
   ]
  },
  {
   "cell_type": "markdown",
   "id": "5ef3c3d9",
   "metadata": {},
   "source": [
    "#### Importing Required Libraries"
   ]
  },
  {
   "cell_type": "code",
   "execution_count": 335,
   "id": "0460c7c6",
   "metadata": {},
   "outputs": [],
   "source": [
    "#Importing Libraries\n",
    "import pandas as pd\n",
    "import matplotlib.pyplot as plt\n",
    "import numpy as np\n",
    "import seaborn as sns\n",
    "import sqlite3\n",
    "from pathlib import Path as Path\n",
    "import os\n",
    "import psycopg2 as ps\n",
    "import pandas as pd\n",
    "import pymysql\n",
    "from matplotlib.pyplot import figure\n",
    "pd.set_option('display.float_format', '{:.2f}'.format)\n"
   ]
  },
  {
   "cell_type": "code",
   "execution_count": 89,
   "id": "7edcf206",
   "metadata": {},
   "outputs": [
    {
     "name": "stdout",
     "output_type": "stream",
     "text": [
      "Requirement already satisfied: imblearn in d:\\anaconda\\lib\\site-packages (0.0)Note: you may need to restart the kernel to use updated packages.\n",
      "Requirement already satisfied: imbalanced-learn in d:\\anaconda\\lib\\site-packages (from imblearn) (0.10.1)\n",
      "Requirement already satisfied: joblib>=1.1.1 in d:\\anaconda\\lib\\site-packages (from imbalanced-learn->imblearn) (1.2.0)\n",
      "Requirement already satisfied: threadpoolctl>=2.0.0 in d:\\anaconda\\lib\\site-packages (from imbalanced-learn->imblearn) (2.2.0)\n",
      "Requirement already satisfied: scikit-learn>=1.0.2 in d:\\anaconda\\lib\\site-packages (from imbalanced-learn->imblearn) (1.0.2)\n",
      "Requirement already satisfied: numpy>=1.17.3 in d:\\anaconda\\lib\\site-packages (from imbalanced-learn->imblearn) (1.21.5)\n",
      "\n",
      "Requirement already satisfied: scipy>=1.3.2 in d:\\anaconda\\lib\\site-packages (from imbalanced-learn->imblearn) (1.7.3)\n"
     ]
    }
   ],
   "source": [
    "pip install imblearn"
   ]
  },
  {
   "cell_type": "markdown",
   "id": "810345f4",
   "metadata": {},
   "source": [
    "### Exploratory Data Analysis"
   ]
  },
  {
   "cell_type": "markdown",
   "id": "64084f41",
   "metadata": {},
   "source": [
    "#### Read Data"
   ]
  },
  {
   "cell_type": "code",
   "execution_count": 90,
   "id": "e99419b8",
   "metadata": {},
   "outputs": [],
   "source": [
    "#Reading CSV File\n",
    "df = pd.read_csv(\"bank-additional-full.csv\", sep=\";\")"
   ]
  },
  {
   "cell_type": "markdown",
   "id": "7ee9676d",
   "metadata": {},
   "source": [
    "#### Connecting to SQL"
   ]
  },
  {
   "cell_type": "code",
   "execution_count": 276,
   "id": "5e46d502",
   "metadata": {},
   "outputs": [],
   "source": [
    "#Connecting to SQL Lite Database\n",
    "Path('sys.db').touch()\n",
    "leads_conn = sqlite3.connect('sys.db')\n",
    "leads_cursor = leads_conn.cursor()"
   ]
  },
  {
   "cell_type": "code",
   "execution_count": 277,
   "id": "82d91214",
   "metadata": {},
   "outputs": [
    {
     "data": {
      "text/plain": [
       "41188"
      ]
     },
     "execution_count": 277,
     "metadata": {},
     "output_type": "execute_result"
    }
   ],
   "source": [
    "#Sending records to SQL Table\n",
    "df.to_sql('Leads_Table', con = leads_conn, if_exists = 'append', chunksize = 1000, index=False)"
   ]
  },
  {
   "cell_type": "markdown",
   "id": "1068c7db",
   "metadata": {},
   "source": [
    "#### Count of Target Variable"
   ]
  },
  {
   "cell_type": "code",
   "execution_count": 278,
   "id": "9eb728e1",
   "metadata": {},
   "outputs": [],
   "source": [
    "#Count of Total Leads who got converted and who did not get converted\n",
    "Total_Outcome = pd.read_sql('''SELECT y,Count(y)\n",
    "                               from Leads_Table\n",
    "                               Group By y''', leads_conn)"
   ]
  },
  {
   "cell_type": "code",
   "execution_count": 11,
   "id": "d987cec4",
   "metadata": {},
   "outputs": [
    {
     "data": {
      "text/html": [
       "<div>\n",
       "<style scoped>\n",
       "    .dataframe tbody tr th:only-of-type {\n",
       "        vertical-align: middle;\n",
       "    }\n",
       "\n",
       "    .dataframe tbody tr th {\n",
       "        vertical-align: top;\n",
       "    }\n",
       "\n",
       "    .dataframe thead th {\n",
       "        text-align: right;\n",
       "    }\n",
       "</style>\n",
       "<table border=\"1\" class=\"dataframe\">\n",
       "  <thead>\n",
       "    <tr style=\"text-align: right;\">\n",
       "      <th></th>\n",
       "      <th>y</th>\n",
       "      <th>Count(y)</th>\n",
       "    </tr>\n",
       "  </thead>\n",
       "  <tbody>\n",
       "    <tr>\n",
       "      <th>0</th>\n",
       "      <td>no</td>\n",
       "      <td>255836</td>\n",
       "    </tr>\n",
       "    <tr>\n",
       "      <th>1</th>\n",
       "      <td>yes</td>\n",
       "      <td>32480</td>\n",
       "    </tr>\n",
       "  </tbody>\n",
       "</table>\n",
       "</div>"
      ],
      "text/plain": [
       "     y  Count(y)\n",
       "0   no    255836\n",
       "1  yes     32480"
      ]
     },
     "execution_count": 11,
     "metadata": {},
     "output_type": "execute_result"
    }
   ],
   "source": [
    "Total_Outcome"
   ]
  },
  {
   "cell_type": "markdown",
   "id": "c2453929",
   "metadata": {},
   "source": [
    "#### Count Outcome of old Campaign"
   ]
  },
  {
   "cell_type": "code",
   "execution_count": 279,
   "id": "862af8fa",
   "metadata": {},
   "outputs": [],
   "source": [
    "#Count of leads who had previously got converted\n",
    "Outcome_Previous = pd.read_sql('''SELECT poutcome, (Count(poutcome))*100/sum(Count(poutcome)) OVER() as Sucess_pct\n",
    "                                          from Leads_Table\n",
    "                                          Group By poutcome''', leads_conn)"
   ]
  },
  {
   "cell_type": "code",
   "execution_count": 280,
   "id": "d58bc082",
   "metadata": {},
   "outputs": [
    {
     "data": {
      "text/html": [
       "<div>\n",
       "<style scoped>\n",
       "    .dataframe tbody tr th:only-of-type {\n",
       "        vertical-align: middle;\n",
       "    }\n",
       "\n",
       "    .dataframe tbody tr th {\n",
       "        vertical-align: top;\n",
       "    }\n",
       "\n",
       "    .dataframe thead th {\n",
       "        text-align: right;\n",
       "    }\n",
       "</style>\n",
       "<table border=\"1\" class=\"dataframe\">\n",
       "  <thead>\n",
       "    <tr style=\"text-align: right;\">\n",
       "      <th></th>\n",
       "      <th>poutcome</th>\n",
       "      <th>Sucess_pct</th>\n",
       "    </tr>\n",
       "  </thead>\n",
       "  <tbody>\n",
       "    <tr>\n",
       "      <th>0</th>\n",
       "      <td>failure</td>\n",
       "      <td>10</td>\n",
       "    </tr>\n",
       "    <tr>\n",
       "      <th>1</th>\n",
       "      <td>nonexistent</td>\n",
       "      <td>86</td>\n",
       "    </tr>\n",
       "    <tr>\n",
       "      <th>2</th>\n",
       "      <td>success</td>\n",
       "      <td>3</td>\n",
       "    </tr>\n",
       "  </tbody>\n",
       "</table>\n",
       "</div>"
      ],
      "text/plain": [
       "      poutcome  Sucess_pct\n",
       "0      failure          10\n",
       "1  nonexistent          86\n",
       "2      success           3"
      ]
     },
     "execution_count": 280,
     "metadata": {},
     "output_type": "execute_result"
    }
   ],
   "source": [
    "Outcome_Previous"
   ]
  },
  {
   "cell_type": "markdown",
   "id": "d8c17152",
   "metadata": {},
   "source": [
    "According to the above Percentage Values we do not have data for more than 80% of Customers. Therefore we will not be considering poutcome column in our further analysis. We will be dropping this column in model building."
   ]
  },
  {
   "cell_type": "markdown",
   "id": "aacfa0b4",
   "metadata": {},
   "source": [
    "#### Count No of Contact Days for all Leads"
   ]
  },
  {
   "cell_type": "code",
   "execution_count": 281,
   "id": "3447d403",
   "metadata": {},
   "outputs": [],
   "source": [
    "#Count of Unique values of count of last contacted days\n",
    "Unique_p_values = pd.read_sql('''SELECT  pdays, count(pdays), (Count(pdays))*100/sum(Count(pdays)) OVER() as Sucess_pct\n",
    "                                  from Leads_Table\n",
    "                                  group by pdays''', leads_conn)"
   ]
  },
  {
   "cell_type": "code",
   "execution_count": 282,
   "id": "50fa478b",
   "metadata": {},
   "outputs": [
    {
     "data": {
      "text/html": [
       "<div>\n",
       "<style scoped>\n",
       "    .dataframe tbody tr th:only-of-type {\n",
       "        vertical-align: middle;\n",
       "    }\n",
       "\n",
       "    .dataframe tbody tr th {\n",
       "        vertical-align: top;\n",
       "    }\n",
       "\n",
       "    .dataframe thead th {\n",
       "        text-align: right;\n",
       "    }\n",
       "</style>\n",
       "<table border=\"1\" class=\"dataframe\">\n",
       "  <thead>\n",
       "    <tr style=\"text-align: right;\">\n",
       "      <th></th>\n",
       "      <th>pdays</th>\n",
       "      <th>count(pdays)</th>\n",
       "      <th>Sucess_pct</th>\n",
       "    </tr>\n",
       "  </thead>\n",
       "  <tbody>\n",
       "    <tr>\n",
       "      <th>0</th>\n",
       "      <td>0</td>\n",
       "      <td>135</td>\n",
       "      <td>0</td>\n",
       "    </tr>\n",
       "    <tr>\n",
       "      <th>1</th>\n",
       "      <td>1</td>\n",
       "      <td>234</td>\n",
       "      <td>0</td>\n",
       "    </tr>\n",
       "    <tr>\n",
       "      <th>2</th>\n",
       "      <td>2</td>\n",
       "      <td>549</td>\n",
       "      <td>0</td>\n",
       "    </tr>\n",
       "    <tr>\n",
       "      <th>3</th>\n",
       "      <td>3</td>\n",
       "      <td>3951</td>\n",
       "      <td>1</td>\n",
       "    </tr>\n",
       "    <tr>\n",
       "      <th>4</th>\n",
       "      <td>4</td>\n",
       "      <td>1062</td>\n",
       "      <td>0</td>\n",
       "    </tr>\n",
       "    <tr>\n",
       "      <th>5</th>\n",
       "      <td>5</td>\n",
       "      <td>414</td>\n",
       "      <td>0</td>\n",
       "    </tr>\n",
       "    <tr>\n",
       "      <th>6</th>\n",
       "      <td>6</td>\n",
       "      <td>3708</td>\n",
       "      <td>1</td>\n",
       "    </tr>\n",
       "    <tr>\n",
       "      <th>7</th>\n",
       "      <td>7</td>\n",
       "      <td>540</td>\n",
       "      <td>0</td>\n",
       "    </tr>\n",
       "    <tr>\n",
       "      <th>8</th>\n",
       "      <td>8</td>\n",
       "      <td>162</td>\n",
       "      <td>0</td>\n",
       "    </tr>\n",
       "    <tr>\n",
       "      <th>9</th>\n",
       "      <td>9</td>\n",
       "      <td>576</td>\n",
       "      <td>0</td>\n",
       "    </tr>\n",
       "    <tr>\n",
       "      <th>10</th>\n",
       "      <td>10</td>\n",
       "      <td>468</td>\n",
       "      <td>0</td>\n",
       "    </tr>\n",
       "    <tr>\n",
       "      <th>11</th>\n",
       "      <td>11</td>\n",
       "      <td>252</td>\n",
       "      <td>0</td>\n",
       "    </tr>\n",
       "    <tr>\n",
       "      <th>12</th>\n",
       "      <td>12</td>\n",
       "      <td>522</td>\n",
       "      <td>0</td>\n",
       "    </tr>\n",
       "    <tr>\n",
       "      <th>13</th>\n",
       "      <td>13</td>\n",
       "      <td>324</td>\n",
       "      <td>0</td>\n",
       "    </tr>\n",
       "    <tr>\n",
       "      <th>14</th>\n",
       "      <td>14</td>\n",
       "      <td>180</td>\n",
       "      <td>0</td>\n",
       "    </tr>\n",
       "    <tr>\n",
       "      <th>15</th>\n",
       "      <td>15</td>\n",
       "      <td>216</td>\n",
       "      <td>0</td>\n",
       "    </tr>\n",
       "    <tr>\n",
       "      <th>16</th>\n",
       "      <td>16</td>\n",
       "      <td>99</td>\n",
       "      <td>0</td>\n",
       "    </tr>\n",
       "    <tr>\n",
       "      <th>17</th>\n",
       "      <td>17</td>\n",
       "      <td>72</td>\n",
       "      <td>0</td>\n",
       "    </tr>\n",
       "    <tr>\n",
       "      <th>18</th>\n",
       "      <td>18</td>\n",
       "      <td>63</td>\n",
       "      <td>0</td>\n",
       "    </tr>\n",
       "    <tr>\n",
       "      <th>19</th>\n",
       "      <td>19</td>\n",
       "      <td>27</td>\n",
       "      <td>0</td>\n",
       "    </tr>\n",
       "    <tr>\n",
       "      <th>20</th>\n",
       "      <td>20</td>\n",
       "      <td>9</td>\n",
       "      <td>0</td>\n",
       "    </tr>\n",
       "    <tr>\n",
       "      <th>21</th>\n",
       "      <td>21</td>\n",
       "      <td>18</td>\n",
       "      <td>0</td>\n",
       "    </tr>\n",
       "    <tr>\n",
       "      <th>22</th>\n",
       "      <td>22</td>\n",
       "      <td>27</td>\n",
       "      <td>0</td>\n",
       "    </tr>\n",
       "    <tr>\n",
       "      <th>23</th>\n",
       "      <td>25</td>\n",
       "      <td>9</td>\n",
       "      <td>0</td>\n",
       "    </tr>\n",
       "    <tr>\n",
       "      <th>24</th>\n",
       "      <td>26</td>\n",
       "      <td>9</td>\n",
       "      <td>0</td>\n",
       "    </tr>\n",
       "    <tr>\n",
       "      <th>25</th>\n",
       "      <td>27</td>\n",
       "      <td>9</td>\n",
       "      <td>0</td>\n",
       "    </tr>\n",
       "    <tr>\n",
       "      <th>26</th>\n",
       "      <td>999</td>\n",
       "      <td>357057</td>\n",
       "      <td>96</td>\n",
       "    </tr>\n",
       "  </tbody>\n",
       "</table>\n",
       "</div>"
      ],
      "text/plain": [
       "    pdays  count(pdays)  Sucess_pct\n",
       "0       0           135           0\n",
       "1       1           234           0\n",
       "2       2           549           0\n",
       "3       3          3951           1\n",
       "4       4          1062           0\n",
       "5       5           414           0\n",
       "6       6          3708           1\n",
       "7       7           540           0\n",
       "8       8           162           0\n",
       "9       9           576           0\n",
       "10     10           468           0\n",
       "11     11           252           0\n",
       "12     12           522           0\n",
       "13     13           324           0\n",
       "14     14           180           0\n",
       "15     15           216           0\n",
       "16     16            99           0\n",
       "17     17            72           0\n",
       "18     18            63           0\n",
       "19     19            27           0\n",
       "20     20             9           0\n",
       "21     21            18           0\n",
       "22     22            27           0\n",
       "23     25             9           0\n",
       "24     26             9           0\n",
       "25     27             9           0\n",
       "26    999        357057          96"
      ]
     },
     "execution_count": 282,
     "metadata": {},
     "output_type": "execute_result"
    }
   ],
   "source": [
    "Unique_p_values"
   ]
  },
  {
   "cell_type": "markdown",
   "id": "bdb69b88",
   "metadata": {},
   "source": [
    "From the Above Table we can see that more than 96% of our customers had been contacted over 999 days and above. Hence we do not have significant data to include this in our final analysis. We have decided to drop this column in model building."
   ]
  },
  {
   "cell_type": "markdown",
   "id": "3524858a",
   "metadata": {},
   "source": [
    "Since we have discarded two columns poutcome and pdays and we have kept duration column aside for now. Let us perform numerical, graphical and statistical analysis on remaining columns"
   ]
  },
  {
   "cell_type": "markdown",
   "id": "d4db6240",
   "metadata": {},
   "source": [
    "#### Dropping Unncessary columns"
   ]
  },
  {
   "cell_type": "code",
   "execution_count": 283,
   "id": "64f6f559",
   "metadata": {},
   "outputs": [],
   "source": [
    "#Dropping certain columns\n",
    "df.drop(['previous','poutcome','duration','pdays'], axis=1, inplace=True)"
   ]
  },
  {
   "cell_type": "markdown",
   "id": "40ccae85",
   "metadata": {},
   "source": [
    "#### Target Variable Percent for all columns"
   ]
  },
  {
   "cell_type": "code",
   "execution_count": 284,
   "id": "534500bb",
   "metadata": {},
   "outputs": [],
   "source": [
    "#Count of converted/not converted values in Tabular Format for Categorical and Numerical Columns\n",
    "def count(data):\n",
    "    for i in data:\n",
    "        print(\"**********\",i,\"*************\")\n",
    "        each_Total = data.groupby(data[i]).y.count()\n",
    "        Per_Sum = (each_Total/sum(each_Total))*100\n",
    "        print(Per_Sum )"
   ]
  },
  {
   "cell_type": "markdown",
   "id": "8f30dc5a",
   "metadata": {},
   "source": [
    "#### What is the total count of coverted vs not converted leads ? "
   ]
  },
  {
   "cell_type": "code",
   "execution_count": 131,
   "id": "90a92d25",
   "metadata": {},
   "outputs": [
    {
     "name": "stdout",
     "output_type": "stream",
     "text": [
      "The number of people in each job category are : \n",
      " y\n",
      "no     36548\n",
      "yes     4640\n",
      "Name: y, dtype: int64 \n"
     ]
    }
   ],
   "source": [
    "df_count = df.groupby(['y'])['y'].count()\n",
    "print(\"The number of people in each job category are : \\n {} \". format(df_count))"
   ]
  },
  {
   "cell_type": "markdown",
   "id": "d7225b83",
   "metadata": {},
   "source": [
    "#### What is the total no of leads converted leads in all different categories ?"
   ]
  },
  {
   "cell_type": "code",
   "execution_count": 196,
   "id": "0c6b477f",
   "metadata": {},
   "outputs": [],
   "source": [
    "cat_features = [feature for feature in df.columns if df[feature].dtype == 'O']"
   ]
  },
  {
   "cell_type": "code",
   "execution_count": 197,
   "id": "49a7943a",
   "metadata": {},
   "outputs": [],
   "source": [
    "def converted_leads(df, cat_cols):\n",
    "    for i in cat_cols:\n",
    "        if i in df:\n",
    "            df_converted = df.query(\"y == 'yes'\").groupby([i])['y'].count().sort_values(ascending=False)\n",
    "            print(\"The number of converted leads in this category are : \\n {} \". format(df_converted))\n",
    "            print(\"---------------------------------------------------\")"
   ]
  },
  {
   "cell_type": "code",
   "execution_count": 198,
   "id": "9197dd44",
   "metadata": {},
   "outputs": [
    {
     "name": "stdout",
     "output_type": "stream",
     "text": [
      "The number of converted leads in this category are : \n",
      " job\n",
      "admin.           1352\n",
      "technician        730\n",
      "blue-collar       638\n",
      "retired           434\n",
      "management        328\n",
      "services          323\n",
      "student           275\n",
      "self-employed     149\n",
      "unemployed        144\n",
      "entrepreneur      124\n",
      "housemaid         106\n",
      "unknown            37\n",
      "Name: y, dtype: int64 \n",
      "---------------------------------------------------\n",
      "The number of converted leads in this category are : \n",
      " marital\n",
      "married     2532\n",
      "single      1620\n",
      "divorced     476\n",
      "unknown       12\n",
      "Name: y, dtype: int64 \n",
      "---------------------------------------------------\n",
      "The number of converted leads in this category are : \n",
      " education\n",
      "university.degree      1670\n",
      "high.school            1031\n",
      "professional.course     595\n",
      "basic.9y                473\n",
      "basic.4y                428\n",
      "unknown                 251\n",
      "basic.6y                188\n",
      "illiterate                4\n",
      "Name: y, dtype: int64 \n",
      "---------------------------------------------------\n",
      "The number of converted leads in this category are : \n",
      " default\n",
      "no         4197\n",
      "unknown     443\n",
      "Name: y, dtype: int64 \n",
      "---------------------------------------------------\n",
      "The number of converted leads in this category are : \n",
      " housing\n",
      "yes        2507\n",
      "no         2026\n",
      "unknown     107\n",
      "Name: y, dtype: int64 \n",
      "---------------------------------------------------\n",
      "The number of converted leads in this category are : \n",
      " loan\n",
      "no         3850\n",
      "yes         683\n",
      "unknown     107\n",
      "Name: y, dtype: int64 \n",
      "---------------------------------------------------\n",
      "The number of converted leads in this category are : \n",
      " contact\n",
      "cellular     3853\n",
      "telephone     787\n",
      "Name: y, dtype: int64 \n",
      "---------------------------------------------------\n",
      "The number of converted leads in this category are : \n",
      " month\n",
      "may    886\n",
      "aug    655\n",
      "jul    649\n",
      "jun    559\n",
      "apr    539\n",
      "nov    416\n",
      "oct    315\n",
      "mar    276\n",
      "sep    256\n",
      "dec     89\n",
      "Name: y, dtype: int64 \n",
      "---------------------------------------------------\n",
      "The number of converted leads in this category are : \n",
      " day_of_week\n",
      "thu    1045\n",
      "tue     953\n",
      "wed     949\n",
      "mon     847\n",
      "fri     846\n",
      "Name: y, dtype: int64 \n",
      "---------------------------------------------------\n",
      "The number of converted leads in this category are : \n",
      " poutcome\n",
      "nonexistent    3141\n",
      "success         894\n",
      "failure         605\n",
      "Name: y, dtype: int64 \n",
      "---------------------------------------------------\n",
      "The number of converted leads in this category are : \n",
      " y\n",
      "yes    4640\n",
      "Name: y, dtype: int64 \n",
      "---------------------------------------------------\n"
     ]
    }
   ],
   "source": [
    "converted_leads(df,cat_features)"
   ]
  },
  {
   "cell_type": "markdown",
   "id": "3e984639",
   "metadata": {},
   "source": [
    "#### What is the total percentage of converted leads in all categories ?"
   ]
  },
  {
   "cell_type": "code",
   "execution_count": 293,
   "id": "fee970c7",
   "metadata": {},
   "outputs": [],
   "source": [
    "def converted_leads(df, cat_cols):\n",
    "    for i in cat_cols:\n",
    "        if i in df:\n",
    "            df_converted = df.query(\"y == 'yes'\").groupby([i])['y'].count().sort_values(ascending=False)\n",
    "            df_converted_total = df_converted.sum()\n",
    "            pct = df.query(\"y == 'yes'\").groupby([i])['y'].count().sort_values(ascending=False) / df_converted_total\n",
    "            print(\"The number of converted leads in this category are : \\n {} \". format(pct))\n",
    "            print(\"---------------------------------------------------\")"
   ]
  },
  {
   "cell_type": "code",
   "execution_count": 294,
   "id": "f1a5c938",
   "metadata": {},
   "outputs": [
    {
     "name": "stdout",
     "output_type": "stream",
     "text": [
      "The number of converted leads in this category are : \n",
      " job\n",
      "admin.           0.291379\n",
      "technician       0.157328\n",
      "blue-collar      0.137500\n",
      "retired          0.093534\n",
      "management       0.070690\n",
      "services         0.069612\n",
      "student          0.059267\n",
      "self-employed    0.032112\n",
      "unemployed       0.031034\n",
      "entrepreneur     0.026724\n",
      "housemaid        0.022845\n",
      "unknown          0.007974\n",
      "Name: y, dtype: float64 \n",
      "---------------------------------------------------\n",
      "The number of converted leads in this category are : \n",
      " marital\n",
      "married     0.545690\n",
      "single      0.349138\n",
      "divorced    0.102586\n",
      "unknown     0.002586\n",
      "Name: y, dtype: float64 \n",
      "---------------------------------------------------\n",
      "The number of converted leads in this category are : \n",
      " education\n",
      "university.degree      0.359914\n",
      "high.school            0.222198\n",
      "professional.course    0.128233\n",
      "basic.9y               0.101940\n",
      "basic.4y               0.092241\n",
      "unknown                0.054095\n",
      "basic.6y               0.040517\n",
      "illiterate             0.000862\n",
      "Name: y, dtype: float64 \n",
      "---------------------------------------------------\n",
      "The number of converted leads in this category are : \n",
      " default\n",
      "no         0.904526\n",
      "unknown    0.095474\n",
      "Name: y, dtype: float64 \n",
      "---------------------------------------------------\n",
      "The number of converted leads in this category are : \n",
      " housing\n",
      "yes        0.540302\n",
      "no         0.436638\n",
      "unknown    0.023060\n",
      "Name: y, dtype: float64 \n",
      "---------------------------------------------------\n",
      "The number of converted leads in this category are : \n",
      " loan\n",
      "no         0.829741\n",
      "yes        0.147198\n",
      "unknown    0.023060\n",
      "Name: y, dtype: float64 \n",
      "---------------------------------------------------\n",
      "The number of converted leads in this category are : \n",
      " contact\n",
      "cellular     0.830388\n",
      "telephone    0.169612\n",
      "Name: y, dtype: float64 \n",
      "---------------------------------------------------\n",
      "The number of converted leads in this category are : \n",
      " month\n",
      "may    0.190948\n",
      "aug    0.141164\n",
      "jul    0.139871\n",
      "jun    0.120474\n",
      "apr    0.116164\n",
      "nov    0.089655\n",
      "oct    0.067888\n",
      "mar    0.059483\n",
      "sep    0.055172\n",
      "dec    0.019181\n",
      "Name: y, dtype: float64 \n",
      "---------------------------------------------------\n",
      "The number of converted leads in this category are : \n",
      " day_of_week\n",
      "thu    0.225216\n",
      "tue    0.205388\n",
      "wed    0.204526\n",
      "mon    0.182543\n",
      "fri    0.182328\n",
      "Name: y, dtype: float64 \n",
      "---------------------------------------------------\n",
      "The number of converted leads in this category are : \n",
      " y\n",
      "yes    1.0\n",
      "Name: y, dtype: float64 \n",
      "---------------------------------------------------\n"
     ]
    }
   ],
   "source": [
    "converted_leads(df, cat_features)"
   ]
  },
  {
   "cell_type": "markdown",
   "id": "5c575886",
   "metadata": {},
   "source": [
    "#### Find total converted leads pertaining to job, marital and education ?"
   ]
  },
  {
   "cell_type": "code",
   "execution_count": 213,
   "id": "43e78f5a",
   "metadata": {},
   "outputs": [],
   "source": [
    "df_custinfo = df.query(\"y == 'yes'\").groupby(['job','marital','education','housing','loan','contact','month','day_of_week'])['y'].count().sort_values(ascending=False)"
   ]
  },
  {
   "cell_type": "code",
   "execution_count": 267,
   "id": "66eaae16",
   "metadata": {},
   "outputs": [
    {
     "data": {
      "text/plain": [
       "4640"
      ]
     },
     "execution_count": 267,
     "metadata": {},
     "output_type": "execute_result"
    }
   ],
   "source": [
    "df_custinfo.sum()"
   ]
  },
  {
   "cell_type": "code",
   "execution_count": 273,
   "id": "c0239379",
   "metadata": {},
   "outputs": [
    {
     "data": {
      "text/plain": [
       "job           marital  education          housing  loan  contact   month  day_of_week\n",
       "admin.        single   university.degree  yes      no    cellular  apr    thu            0.30\n",
       "              married  university.degree  yes      no    cellular  aug    wed            0.24\n",
       "                                                                          tue            0.19\n",
       "              single   university.degree  yes      no    cellular  aug    wed            0.19\n",
       "              married  university.degree  yes      no    cellular  apr    thu            0.19\n",
       "                                                                                         ... \n",
       "entrepreneur  married  university.degree  yes      no    cellular  apr    fri            0.02\n",
       "                                                                   aug    fri            0.02\n",
       "                                                                   jul    mon            0.02\n",
       "                                                                          thu            0.02\n",
       "unknown       unknown  unknown            yes      yes   cellular  jul    wed            0.02\n",
       "Name: y, Length: 3337, dtype: float64"
      ]
     },
     "execution_count": 273,
     "metadata": {},
     "output_type": "execute_result"
    }
   ],
   "source": [
    "((df.query(\"y == 'yes'\").groupby(['job','marital','education','housing','loan','contact','month','day_of_week'])['y'].count().sort_values(ascending=False)/df_custinfo.sum())*100).round(2)"
   ]
  },
  {
   "cell_type": "markdown",
   "id": "5b3e4920",
   "metadata": {},
   "source": [
    "#### Distribution Plot for Categorical Features with respect to Target Variable"
   ]
  },
  {
   "cell_type": "code",
   "execution_count": 10,
   "id": "74b53b05",
   "metadata": {
    "scrolled": false
   },
   "outputs": [
    {
     "data": {
      "image/png": "[encoded data removed]",
      "text/plain": [
       "<Figure size 1080x10800 with 11 Axes>"
      ]
     },
     "metadata": {
      "needs_background": "light"
     },
     "output_type": "display_data"
    }
   ],
   "source": [
    "cat_features = [feature for feature in df.columns if df[feature].dtype == 'O']\n",
    "\n",
    "plt.figure(figsize=(15, 150))\n",
    "for i, col in enumerate(cat_features):\n",
    "    plt.subplot(50,2,i+1)\n",
    "    sns.countplot(x=df[col], hue=df['y'])\n",
    "    plt.xlabel(col, weight='bold')\n",
    "    plt.tight_layout()"
   ]
  },
  {
   "cell_type": "markdown",
   "id": "be40acb6",
   "metadata": {},
   "source": [
    "#### Distribution Plot for Numerical Features"
   ]
  },
  {
   "cell_type": "code",
   "execution_count": 12,
   "id": "645ea87c",
   "metadata": {},
   "outputs": [
    {
     "data": {
      "image/png": "[encoded data removed]",
      "text/plain": [
       "<Figure size 1080x10800 with 10 Axes>"
      ]
     },
     "metadata": {
      "needs_background": "light"
     },
     "output_type": "display_data"
    }
   ],
   "source": [
    "num_features = [feature for feature in df.columns if df[feature].dtype != 'O']\n",
    "\n",
    "plt.figure(figsize=(15, 150))\n",
    "for i, col in enumerate(num_features):\n",
    "    plt.subplot(50,2,i+1)\n",
    "    sns.countplot(x=df[col])\n",
    "    plt.xlabel(col, weight='bold')\n",
    "    plt.tight_layout()"
   ]
  },
  {
   "cell_type": "markdown",
   "id": "f8dee459",
   "metadata": {},
   "source": [
    "#### Box plot for Numerical Features"
   ]
  },
  {
   "cell_type": "code",
   "execution_count": 314,
   "id": "fe253ad7",
   "metadata": {},
   "outputs": [
    {
     "data": {
      "image/png": "[encoded data removed]",
      "text/plain": [
       "<Figure size 1080x10800 with 7 Axes>"
      ]
     },
     "metadata": {
      "needs_background": "light"
     },
     "output_type": "display_data"
    }
   ],
   "source": [
    "num_features = [feature for feature in df.columns if df[feature].dtype != 'O']\n",
    "\n",
    "plt.figure(figsize=(15, 150))\n",
    "for i, col in enumerate(num_features):\n",
    "    plt.subplot(50,2,i+1)\n",
    "    sns.boxplot(x=df[col])\n",
    "    plt.xlabel(col, weight='bold')\n",
    "    plt.tight_layout()"
   ]
  },
  {
   "cell_type": "markdown",
   "id": "d9e6ba8f",
   "metadata": {},
   "source": [
    "#### Violin Plot for all Numerical Features"
   ]
  },
  {
   "cell_type": "code",
   "execution_count": 312,
   "id": "d9e865a7",
   "metadata": {},
   "outputs": [
    {
     "data": {
      "image/png": "[encoded data removed]",
      "text/plain": [
       "<Figure size 1080x10800 with 7 Axes>"
      ]
     },
     "metadata": {
      "needs_background": "light"
     },
     "output_type": "display_data"
    }
   ],
   "source": [
    "num_features = [feature for feature in df.columns if df[feature].dtype != 'O']\n",
    "\n",
    "plt.figure(figsize=(15, 150))\n",
    "for i, col in enumerate(num_features):\n",
    "    plt.subplot(50,2,i+1)\n",
    "    sns.violinplot(x=df[col])\n",
    "    plt.xlabel(col, weight='bold')\n",
    "    plt.tight_layout()"
   ]
  },
  {
   "cell_type": "markdown",
   "id": "52362c66",
   "metadata": {},
   "source": [
    "#### QQ Plot for all numerical features"
   ]
  },
  {
   "cell_type": "code",
   "execution_count": 306,
   "id": "ae47ded8",
   "metadata": {},
   "outputs": [],
   "source": [
    "import statsmodels.api as sm\n",
    "from scipy import stats"
   ]
  },
  {
   "cell_type": "code",
   "execution_count": 307,
   "id": "28ee8818",
   "metadata": {},
   "outputs": [
    {
     "data": {
      "image/png": "[encoded data removed]",
      "text/plain": [
       "<Figure size 1080x10800 with 7 Axes>"
      ]
     },
     "metadata": {
      "needs_background": "light"
     },
     "output_type": "display_data"
    }
   ],
   "source": [
    "num_features = [feature for feature in df.columns if df[feature].dtype != 'O']\n",
    "\n",
    "plt.figure(figsize=(15, 150))\n",
    "for i, col in enumerate(num_features):\n",
    "    plt.subplot(50,2,i+1)\n",
    "    stats.probplot(df[col], plot=sns.mpl.pyplot)\n",
    "    plt.xlabel(col, weight='bold')\n",
    "    plt.tight_layout()"
   ]
  },
  {
   "cell_type": "markdown",
   "id": "248953b7",
   "metadata": {},
   "source": [
    "#### Observations"
   ]
  },
  {
   "cell_type": "markdown",
   "id": "5daa2bf5",
   "metadata": {},
   "source": [
    "1. We can see that the numerical features do not have normal distribution. They are postively skewed, negatively skewed and bimodals respectively\n",
    "2. There are outliers in the datasets which is visible from the violin and box plots respectively"
   ]
  },
  {
   "cell_type": "markdown",
   "id": "ce5d88b5",
   "metadata": {},
   "source": [
    "#### Descriptive Statistics for Numerical Columns"
   ]
  },
  {
   "cell_type": "code",
   "execution_count": 414,
   "id": "45ea0d05",
   "metadata": {},
   "outputs": [
    {
     "data": {
      "text/html": [
       "<div>\n",
       "<style scoped>\n",
       "    .dataframe tbody tr th:only-of-type {\n",
       "        vertical-align: middle;\n",
       "    }\n",
       "\n",
       "    .dataframe tbody tr th {\n",
       "        vertical-align: top;\n",
       "    }\n",
       "\n",
       "    .dataframe thead th {\n",
       "        text-align: right;\n",
       "    }\n",
       "</style>\n",
       "<table border=\"1\" class=\"dataframe\">\n",
       "  <thead>\n",
       "    <tr style=\"text-align: right;\">\n",
       "      <th></th>\n",
       "      <th>age</th>\n",
       "      <th>campaign</th>\n",
       "      <th>emp.var.rate</th>\n",
       "      <th>cons.price.idx</th>\n",
       "      <th>cons.conf.idx</th>\n",
       "      <th>euribor3m</th>\n",
       "      <th>nr.employed</th>\n",
       "    </tr>\n",
       "  </thead>\n",
       "  <tbody>\n",
       "    <tr>\n",
       "      <th>count</th>\n",
       "      <td>41188.00000</td>\n",
       "      <td>41188.000000</td>\n",
       "      <td>41188.000000</td>\n",
       "      <td>41188.000000</td>\n",
       "      <td>41188.000000</td>\n",
       "      <td>41188.000000</td>\n",
       "      <td>41188.000000</td>\n",
       "    </tr>\n",
       "    <tr>\n",
       "      <th>mean</th>\n",
       "      <td>40.02406</td>\n",
       "      <td>2.567593</td>\n",
       "      <td>0.081886</td>\n",
       "      <td>93.575664</td>\n",
       "      <td>-40.502600</td>\n",
       "      <td>3.621291</td>\n",
       "      <td>5167.035911</td>\n",
       "    </tr>\n",
       "    <tr>\n",
       "      <th>std</th>\n",
       "      <td>10.42125</td>\n",
       "      <td>2.770014</td>\n",
       "      <td>1.570960</td>\n",
       "      <td>0.578840</td>\n",
       "      <td>4.628198</td>\n",
       "      <td>1.734447</td>\n",
       "      <td>72.251528</td>\n",
       "    </tr>\n",
       "    <tr>\n",
       "      <th>min</th>\n",
       "      <td>17.00000</td>\n",
       "      <td>1.000000</td>\n",
       "      <td>-3.400000</td>\n",
       "      <td>92.201000</td>\n",
       "      <td>-50.800000</td>\n",
       "      <td>0.634000</td>\n",
       "      <td>4963.600000</td>\n",
       "    </tr>\n",
       "    <tr>\n",
       "      <th>25%</th>\n",
       "      <td>32.00000</td>\n",
       "      <td>1.000000</td>\n",
       "      <td>-1.800000</td>\n",
       "      <td>93.075000</td>\n",
       "      <td>-42.700000</td>\n",
       "      <td>1.344000</td>\n",
       "      <td>5099.100000</td>\n",
       "    </tr>\n",
       "    <tr>\n",
       "      <th>50%</th>\n",
       "      <td>38.00000</td>\n",
       "      <td>2.000000</td>\n",
       "      <td>1.100000</td>\n",
       "      <td>93.749000</td>\n",
       "      <td>-41.800000</td>\n",
       "      <td>4.857000</td>\n",
       "      <td>5191.000000</td>\n",
       "    </tr>\n",
       "    <tr>\n",
       "      <th>75%</th>\n",
       "      <td>47.00000</td>\n",
       "      <td>3.000000</td>\n",
       "      <td>1.400000</td>\n",
       "      <td>93.994000</td>\n",
       "      <td>-36.400000</td>\n",
       "      <td>4.961000</td>\n",
       "      <td>5228.100000</td>\n",
       "    </tr>\n",
       "    <tr>\n",
       "      <th>max</th>\n",
       "      <td>98.00000</td>\n",
       "      <td>56.000000</td>\n",
       "      <td>1.400000</td>\n",
       "      <td>94.767000</td>\n",
       "      <td>-26.900000</td>\n",
       "      <td>5.045000</td>\n",
       "      <td>5228.100000</td>\n",
       "    </tr>\n",
       "  </tbody>\n",
       "</table>\n",
       "</div>"
      ],
      "text/plain": [
       "               age      campaign  emp.var.rate  cons.price.idx  cons.conf.idx  \\\n",
       "count  41188.00000  41188.000000  41188.000000    41188.000000   41188.000000   \n",
       "mean      40.02406      2.567593      0.081886       93.575664     -40.502600   \n",
       "std       10.42125      2.770014      1.570960        0.578840       4.628198   \n",
       "min       17.00000      1.000000     -3.400000       92.201000     -50.800000   \n",
       "25%       32.00000      1.000000     -1.800000       93.075000     -42.700000   \n",
       "50%       38.00000      2.000000      1.100000       93.749000     -41.800000   \n",
       "75%       47.00000      3.000000      1.400000       93.994000     -36.400000   \n",
       "max       98.00000     56.000000      1.400000       94.767000     -26.900000   \n",
       "\n",
       "          euribor3m   nr.employed  \n",
       "count  41188.000000  41188.000000  \n",
       "mean       3.621291   5167.035911  \n",
       "std        1.734447     72.251528  \n",
       "min        0.634000   4963.600000  \n",
       "25%        1.344000   5099.100000  \n",
       "50%        4.857000   5191.000000  \n",
       "75%        4.961000   5228.100000  \n",
       "max        5.045000   5228.100000  "
      ]
     },
     "execution_count": 414,
     "metadata": {},
     "output_type": "execute_result"
    }
   ],
   "source": [
    "#Statistical Vlaues for all numerical columns\n",
    "df.describe()"
   ]
  },
  {
   "cell_type": "markdown",
   "id": "1d6c070a",
   "metadata": {},
   "source": [
    "#### Pearson Correlation for Numerical Features and Heatmap"
   ]
  },
  {
   "cell_type": "code",
   "execution_count": 13,
   "id": "ef0fc71c",
   "metadata": {},
   "outputs": [
    {
     "data": {
      "text/plain": [
       "<AxesSubplot:>"
      ]
     },
     "execution_count": 13,
     "metadata": {},
     "output_type": "execute_result"
    },
    {
     "data": {
      "image/png": "[encoded data removed]",
      "text/plain": [
       "<Figure size 1080x720 with 2 Axes>"
      ]
     },
     "metadata": {
      "needs_background": "light"
     },
     "output_type": "display_data"
    }
   ],
   "source": [
    "plt.figure(figsize=(15,10))\n",
    "sns.heatmap(df.corr(), annot=True)"
   ]
  },
  {
   "cell_type": "markdown",
   "id": "dab55db1",
   "metadata": {},
   "source": [
    "#### Top 20 Converted Leads for Contact Type, Month and  Day of the Week"
   ]
  },
  {
   "cell_type": "code",
   "execution_count": 420,
   "id": "3dd642db",
   "metadata": {},
   "outputs": [],
   "source": [
    "#Count of Converted leads for all Permutations of Distinct Contact, Distinct Month, Distrinc day_of_week\n",
    "count_contact = pd.read_sql('''SELECT contact, month, day_of_week, COUNT(y) AS Total, count(y)*100/sum(count(y)) over() as Scuess_PCT \n",
    "                           FROM Leads_Table\n",
    "                           where y='yes'\n",
    "                           GROUP BY contact, month, day_of_week''', leads_conn)"
   ]
  },
  {
   "cell_type": "code",
   "execution_count": 421,
   "id": "25388840",
   "metadata": {
    "scrolled": true
   },
   "outputs": [
    {
     "data": {
      "text/html": [
       "<div>\n",
       "<style scoped>\n",
       "    .dataframe tbody tr th:only-of-type {\n",
       "        vertical-align: middle;\n",
       "    }\n",
       "\n",
       "    .dataframe tbody tr th {\n",
       "        vertical-align: top;\n",
       "    }\n",
       "\n",
       "    .dataframe thead th {\n",
       "        text-align: right;\n",
       "    }\n",
       "</style>\n",
       "<table border=\"1\" class=\"dataframe\">\n",
       "  <thead>\n",
       "    <tr style=\"text-align: right;\">\n",
       "      <th></th>\n",
       "      <th>contact</th>\n",
       "      <th>month</th>\n",
       "      <th>day_of_week</th>\n",
       "      <th>Total</th>\n",
       "      <th>Scuess_PCT</th>\n",
       "    </tr>\n",
       "  </thead>\n",
       "  <tbody>\n",
       "    <tr>\n",
       "      <th>2</th>\n",
       "      <td>cellular</td>\n",
       "      <td>apr</td>\n",
       "      <td>thu</td>\n",
       "      <td>1302</td>\n",
       "      <td>4</td>\n",
       "    </tr>\n",
       "    <tr>\n",
       "      <th>31</th>\n",
       "      <td>cellular</td>\n",
       "      <td>may</td>\n",
       "      <td>mon</td>\n",
       "      <td>888</td>\n",
       "      <td>3</td>\n",
       "    </tr>\n",
       "    <tr>\n",
       "      <th>8</th>\n",
       "      <td>cellular</td>\n",
       "      <td>aug</td>\n",
       "      <td>tue</td>\n",
       "      <td>846</td>\n",
       "      <td>3</td>\n",
       "    </tr>\n",
       "    <tr>\n",
       "      <th>9</th>\n",
       "      <td>cellular</td>\n",
       "      <td>aug</td>\n",
       "      <td>wed</td>\n",
       "      <td>816</td>\n",
       "      <td>2</td>\n",
       "    </tr>\n",
       "    <tr>\n",
       "      <th>17</th>\n",
       "      <td>cellular</td>\n",
       "      <td>jul</td>\n",
       "      <td>thu</td>\n",
       "      <td>774</td>\n",
       "      <td>2</td>\n",
       "    </tr>\n",
       "    <tr>\n",
       "      <th>30</th>\n",
       "      <td>cellular</td>\n",
       "      <td>may</td>\n",
       "      <td>fri</td>\n",
       "      <td>762</td>\n",
       "      <td>2</td>\n",
       "    </tr>\n",
       "    <tr>\n",
       "      <th>34</th>\n",
       "      <td>cellular</td>\n",
       "      <td>may</td>\n",
       "      <td>wed</td>\n",
       "      <td>744</td>\n",
       "      <td>2</td>\n",
       "    </tr>\n",
       "    <tr>\n",
       "      <th>7</th>\n",
       "      <td>cellular</td>\n",
       "      <td>aug</td>\n",
       "      <td>thu</td>\n",
       "      <td>744</td>\n",
       "      <td>2</td>\n",
       "    </tr>\n",
       "    <tr>\n",
       "      <th>18</th>\n",
       "      <td>cellular</td>\n",
       "      <td>jul</td>\n",
       "      <td>tue</td>\n",
       "      <td>732</td>\n",
       "      <td>2</td>\n",
       "    </tr>\n",
       "    <tr>\n",
       "      <th>19</th>\n",
       "      <td>cellular</td>\n",
       "      <td>jul</td>\n",
       "      <td>wed</td>\n",
       "      <td>726</td>\n",
       "      <td>2</td>\n",
       "    </tr>\n",
       "    <tr>\n",
       "      <th>5</th>\n",
       "      <td>cellular</td>\n",
       "      <td>aug</td>\n",
       "      <td>fri</td>\n",
       "      <td>702</td>\n",
       "      <td>2</td>\n",
       "    </tr>\n",
       "    <tr>\n",
       "      <th>32</th>\n",
       "      <td>cellular</td>\n",
       "      <td>may</td>\n",
       "      <td>thu</td>\n",
       "      <td>684</td>\n",
       "      <td>2</td>\n",
       "    </tr>\n",
       "    <tr>\n",
       "      <th>16</th>\n",
       "      <td>cellular</td>\n",
       "      <td>jul</td>\n",
       "      <td>mon</td>\n",
       "      <td>660</td>\n",
       "      <td>2</td>\n",
       "    </tr>\n",
       "    <tr>\n",
       "      <th>15</th>\n",
       "      <td>cellular</td>\n",
       "      <td>jul</td>\n",
       "      <td>fri</td>\n",
       "      <td>654</td>\n",
       "      <td>2</td>\n",
       "    </tr>\n",
       "    <tr>\n",
       "      <th>6</th>\n",
       "      <td>cellular</td>\n",
       "      <td>aug</td>\n",
       "      <td>mon</td>\n",
       "      <td>606</td>\n",
       "      <td>2</td>\n",
       "    </tr>\n",
       "    <tr>\n",
       "      <th>33</th>\n",
       "      <td>cellular</td>\n",
       "      <td>may</td>\n",
       "      <td>tue</td>\n",
       "      <td>606</td>\n",
       "      <td>2</td>\n",
       "    </tr>\n",
       "    <tr>\n",
       "      <th>23</th>\n",
       "      <td>cellular</td>\n",
       "      <td>jun</td>\n",
       "      <td>tue</td>\n",
       "      <td>582</td>\n",
       "      <td>2</td>\n",
       "    </tr>\n",
       "    <tr>\n",
       "      <th>21</th>\n",
       "      <td>cellular</td>\n",
       "      <td>jun</td>\n",
       "      <td>mon</td>\n",
       "      <td>534</td>\n",
       "      <td>1</td>\n",
       "    </tr>\n",
       "    <tr>\n",
       "      <th>37</th>\n",
       "      <td>cellular</td>\n",
       "      <td>nov</td>\n",
       "      <td>thu</td>\n",
       "      <td>492</td>\n",
       "      <td>1</td>\n",
       "    </tr>\n",
       "    <tr>\n",
       "      <th>4</th>\n",
       "      <td>cellular</td>\n",
       "      <td>apr</td>\n",
       "      <td>wed</td>\n",
       "      <td>468</td>\n",
       "      <td>1</td>\n",
       "    </tr>\n",
       "  </tbody>\n",
       "</table>\n",
       "</div>"
      ],
      "text/plain": [
       "     contact month day_of_week  Total  Scuess_PCT\n",
       "2   cellular   apr         thu   1302           4\n",
       "31  cellular   may         mon    888           3\n",
       "8   cellular   aug         tue    846           3\n",
       "9   cellular   aug         wed    816           2\n",
       "17  cellular   jul         thu    774           2\n",
       "30  cellular   may         fri    762           2\n",
       "34  cellular   may         wed    744           2\n",
       "7   cellular   aug         thu    744           2\n",
       "18  cellular   jul         tue    732           2\n",
       "19  cellular   jul         wed    726           2\n",
       "5   cellular   aug         fri    702           2\n",
       "32  cellular   may         thu    684           2\n",
       "16  cellular   jul         mon    660           2\n",
       "15  cellular   jul         fri    654           2\n",
       "6   cellular   aug         mon    606           2\n",
       "33  cellular   may         tue    606           2\n",
       "23  cellular   jun         tue    582           2\n",
       "21  cellular   jun         mon    534           1\n",
       "37  cellular   nov         thu    492           1\n",
       "4   cellular   apr         wed    468           1"
      ]
     },
     "execution_count": 421,
     "metadata": {},
     "output_type": "execute_result"
    }
   ],
   "source": [
    "count_contact.sort_values(['Total'], ascending=False).head(20)"
   ]
  },
  {
   "cell_type": "markdown",
   "id": "6f02c370",
   "metadata": {},
   "source": [
    "#### Top 20 converted Leads for Type of Job, Marital Status and Education Taken"
   ]
  },
  {
   "cell_type": "code",
   "execution_count": 422,
   "id": "1f352b3c",
   "metadata": {},
   "outputs": [],
   "source": [
    "#count of converted contacts for all permutations of Distinct Job, Distinct Marital, Distinct Education \n",
    "count_info = pd.read_sql('''SELECT job, marital, education, COUNT(y) AS Total, count(y)*100/sum(count(y)) over() as Scuess_PCT \n",
    "                           FROM Leads_Table\n",
    "                           where y='yes'\n",
    "                           GROUP BY job, marital, education''', leads_conn)"
   ]
  },
  {
   "cell_type": "code",
   "execution_count": 423,
   "id": "da614dcf",
   "metadata": {},
   "outputs": [
    {
     "data": {
      "text/html": [
       "<div>\n",
       "<style scoped>\n",
       "    .dataframe tbody tr th:only-of-type {\n",
       "        vertical-align: middle;\n",
       "    }\n",
       "\n",
       "    .dataframe tbody tr th {\n",
       "        vertical-align: top;\n",
       "    }\n",
       "\n",
       "    .dataframe thead th {\n",
       "        text-align: right;\n",
       "    }\n",
       "</style>\n",
       "<table border=\"1\" class=\"dataframe\">\n",
       "  <thead>\n",
       "    <tr style=\"text-align: right;\">\n",
       "      <th></th>\n",
       "      <th>job</th>\n",
       "      <th>marital</th>\n",
       "      <th>education</th>\n",
       "      <th>Total</th>\n",
       "      <th>Scuess_PCT</th>\n",
       "    </tr>\n",
       "  </thead>\n",
       "  <tbody>\n",
       "    <tr>\n",
       "      <th>11</th>\n",
       "      <td>admin.</td>\n",
       "      <td>married</td>\n",
       "      <td>university.degree</td>\n",
       "      <td>2316</td>\n",
       "      <td>8</td>\n",
       "    </tr>\n",
       "    <tr>\n",
       "      <th>17</th>\n",
       "      <td>admin.</td>\n",
       "      <td>single</td>\n",
       "      <td>university.degree</td>\n",
       "      <td>2160</td>\n",
       "      <td>7</td>\n",
       "    </tr>\n",
       "    <tr>\n",
       "      <th>176</th>\n",
       "      <td>technician</td>\n",
       "      <td>married</td>\n",
       "      <td>professional.course</td>\n",
       "      <td>1176</td>\n",
       "      <td>4</td>\n",
       "    </tr>\n",
       "    <tr>\n",
       "      <th>9</th>\n",
       "      <td>admin.</td>\n",
       "      <td>married</td>\n",
       "      <td>high.school</td>\n",
       "      <td>1050</td>\n",
       "      <td>3</td>\n",
       "    </tr>\n",
       "    <tr>\n",
       "      <th>90</th>\n",
       "      <td>management</td>\n",
       "      <td>married</td>\n",
       "      <td>university.degree</td>\n",
       "      <td>1014</td>\n",
       "      <td>3</td>\n",
       "    </tr>\n",
       "    <tr>\n",
       "      <th>15</th>\n",
       "      <td>admin.</td>\n",
       "      <td>single</td>\n",
       "      <td>high.school</td>\n",
       "      <td>984</td>\n",
       "      <td>3</td>\n",
       "    </tr>\n",
       "    <tr>\n",
       "      <th>28</th>\n",
       "      <td>blue-collar</td>\n",
       "      <td>married</td>\n",
       "      <td>basic.9y</td>\n",
       "      <td>972</td>\n",
       "      <td>3</td>\n",
       "    </tr>\n",
       "    <tr>\n",
       "      <th>105</th>\n",
       "      <td>retired</td>\n",
       "      <td>married</td>\n",
       "      <td>basic.4y</td>\n",
       "      <td>786</td>\n",
       "      <td>2</td>\n",
       "    </tr>\n",
       "    <tr>\n",
       "      <th>183</th>\n",
       "      <td>technician</td>\n",
       "      <td>single</td>\n",
       "      <td>university.degree</td>\n",
       "      <td>726</td>\n",
       "      <td>2</td>\n",
       "    </tr>\n",
       "    <tr>\n",
       "      <th>182</th>\n",
       "      <td>technician</td>\n",
       "      <td>single</td>\n",
       "      <td>professional.course</td>\n",
       "      <td>684</td>\n",
       "      <td>2</td>\n",
       "    </tr>\n",
       "    <tr>\n",
       "      <th>162</th>\n",
       "      <td>student</td>\n",
       "      <td>single</td>\n",
       "      <td>high.school</td>\n",
       "      <td>672</td>\n",
       "      <td>2</td>\n",
       "    </tr>\n",
       "    <tr>\n",
       "      <th>143</th>\n",
       "      <td>services</td>\n",
       "      <td>married</td>\n",
       "      <td>high.school</td>\n",
       "      <td>654</td>\n",
       "      <td>2</td>\n",
       "    </tr>\n",
       "    <tr>\n",
       "      <th>26</th>\n",
       "      <td>blue-collar</td>\n",
       "      <td>married</td>\n",
       "      <td>basic.4y</td>\n",
       "      <td>576</td>\n",
       "      <td>2</td>\n",
       "    </tr>\n",
       "    <tr>\n",
       "      <th>177</th>\n",
       "      <td>technician</td>\n",
       "      <td>married</td>\n",
       "      <td>university.degree</td>\n",
       "      <td>510</td>\n",
       "      <td>1</td>\n",
       "    </tr>\n",
       "    <tr>\n",
       "      <th>27</th>\n",
       "      <td>blue-collar</td>\n",
       "      <td>married</td>\n",
       "      <td>basic.6y</td>\n",
       "      <td>486</td>\n",
       "      <td>1</td>\n",
       "    </tr>\n",
       "    <tr>\n",
       "      <th>150</th>\n",
       "      <td>services</td>\n",
       "      <td>single</td>\n",
       "      <td>high.school</td>\n",
       "      <td>450</td>\n",
       "      <td>1</td>\n",
       "    </tr>\n",
       "    <tr>\n",
       "      <th>4</th>\n",
       "      <td>admin.</td>\n",
       "      <td>divorced</td>\n",
       "      <td>university.degree</td>\n",
       "      <td>450</td>\n",
       "      <td>1</td>\n",
       "    </tr>\n",
       "    <tr>\n",
       "      <th>35</th>\n",
       "      <td>blue-collar</td>\n",
       "      <td>single</td>\n",
       "      <td>basic.9y</td>\n",
       "      <td>366</td>\n",
       "      <td>1</td>\n",
       "    </tr>\n",
       "    <tr>\n",
       "      <th>165</th>\n",
       "      <td>student</td>\n",
       "      <td>single</td>\n",
       "      <td>unknown</td>\n",
       "      <td>354</td>\n",
       "      <td>1</td>\n",
       "    </tr>\n",
       "    <tr>\n",
       "      <th>95</th>\n",
       "      <td>management</td>\n",
       "      <td>single</td>\n",
       "      <td>university.degree</td>\n",
       "      <td>336</td>\n",
       "      <td>1</td>\n",
       "    </tr>\n",
       "  </tbody>\n",
       "</table>\n",
       "</div>"
      ],
      "text/plain": [
       "             job   marital            education  Total  Scuess_PCT\n",
       "11        admin.   married    university.degree   2316           8\n",
       "17        admin.    single    university.degree   2160           7\n",
       "176   technician   married  professional.course   1176           4\n",
       "9         admin.   married          high.school   1050           3\n",
       "90    management   married    university.degree   1014           3\n",
       "15        admin.    single          high.school    984           3\n",
       "28   blue-collar   married             basic.9y    972           3\n",
       "105      retired   married             basic.4y    786           2\n",
       "183   technician    single    university.degree    726           2\n",
       "182   technician    single  professional.course    684           2\n",
       "162      student    single          high.school    672           2\n",
       "143     services   married          high.school    654           2\n",
       "26   blue-collar   married             basic.4y    576           2\n",
       "177   technician   married    university.degree    510           1\n",
       "27   blue-collar   married             basic.6y    486           1\n",
       "150     services    single          high.school    450           1\n",
       "4         admin.  divorced    university.degree    450           1\n",
       "35   blue-collar    single             basic.9y    366           1\n",
       "165      student    single              unknown    354           1\n",
       "95    management    single    university.degree    336           1"
      ]
     },
     "execution_count": 423,
     "metadata": {},
     "output_type": "execute_result"
    }
   ],
   "source": [
    "count_info.sort_values(['Total'], ascending=False).head(20)"
   ]
  },
  {
   "cell_type": "markdown",
   "id": "5b875723",
   "metadata": {},
   "source": [
    "#### Top 20 converted leads for Housing and Loan type"
   ]
  },
  {
   "cell_type": "code",
   "execution_count": 424,
   "id": "6fe6c958",
   "metadata": {},
   "outputs": [],
   "source": [
    "#Count of all permuations of converted leads for Housing and Loan\n",
    "count_liab = pd.read_sql('''SELECT housing, loan, COUNT(y) AS Total, count(y)*100/sum(count(y)) over() as Scuess_PCT \n",
    "                           FROM Leads_Table\n",
    "                           where y='yes'\n",
    "                           GROUP BY housing, loan''', leads_conn)"
   ]
  },
  {
   "cell_type": "code",
   "execution_count": 426,
   "id": "4485ed02",
   "metadata": {},
   "outputs": [
    {
     "data": {
      "text/html": [
       "<div>\n",
       "<style scoped>\n",
       "    .dataframe tbody tr th:only-of-type {\n",
       "        vertical-align: middle;\n",
       "    }\n",
       "\n",
       "    .dataframe tbody tr th {\n",
       "        vertical-align: top;\n",
       "    }\n",
       "\n",
       "    .dataframe thead th {\n",
       "        text-align: right;\n",
       "    }\n",
       "</style>\n",
       "<table border=\"1\" class=\"dataframe\">\n",
       "  <thead>\n",
       "    <tr style=\"text-align: right;\">\n",
       "      <th></th>\n",
       "      <th>housing</th>\n",
       "      <th>loan</th>\n",
       "      <th>Total</th>\n",
       "      <th>Scuess_PCT</th>\n",
       "    </tr>\n",
       "  </thead>\n",
       "  <tbody>\n",
       "    <tr>\n",
       "      <th>3</th>\n",
       "      <td>yes</td>\n",
       "      <td>no</td>\n",
       "      <td>12588</td>\n",
       "      <td>45</td>\n",
       "    </tr>\n",
       "    <tr>\n",
       "      <th>0</th>\n",
       "      <td>no</td>\n",
       "      <td>no</td>\n",
       "      <td>10512</td>\n",
       "      <td>37</td>\n",
       "    </tr>\n",
       "    <tr>\n",
       "      <th>4</th>\n",
       "      <td>yes</td>\n",
       "      <td>yes</td>\n",
       "      <td>2454</td>\n",
       "      <td>8</td>\n",
       "    </tr>\n",
       "    <tr>\n",
       "      <th>1</th>\n",
       "      <td>no</td>\n",
       "      <td>yes</td>\n",
       "      <td>1644</td>\n",
       "      <td>5</td>\n",
       "    </tr>\n",
       "    <tr>\n",
       "      <th>2</th>\n",
       "      <td>unknown</td>\n",
       "      <td>unknown</td>\n",
       "      <td>642</td>\n",
       "      <td>2</td>\n",
       "    </tr>\n",
       "  </tbody>\n",
       "</table>\n",
       "</div>"
      ],
      "text/plain": [
       "   housing     loan  Total  Scuess_PCT\n",
       "3      yes       no  12588          45\n",
       "0       no       no  10512          37\n",
       "4      yes      yes   2454           8\n",
       "1       no      yes   1644           5\n",
       "2  unknown  unknown    642           2"
      ]
     },
     "execution_count": 426,
     "metadata": {},
     "output_type": "execute_result"
    }
   ],
   "source": [
    "count_liab.sort_values(['Total'], ascending=False).head(20)"
   ]
  },
  {
   "cell_type": "markdown",
   "id": "32fe781b",
   "metadata": {},
   "source": [
    "#### Observations Made from Summary, Numerical and Graphical Analysis"
   ]
  },
  {
   "cell_type": "markdown",
   "id": "02341831",
   "metadata": {},
   "source": [
    "\n",
    "- Most of our customers in the dataset fall in the Age Group of 30-50 yrs of age\n",
    "- The most common job profile of our customer is Admin, Blue-Collar and Technician followed by Management and Services\n",
    "- Maximum of our customers are Married followed by Single and the Divorced\n",
    "- Most of our customers have University Degree, High School and Professional Course followed by basic9.y, basic4.y\n",
    "- The number of customers having loans outweighs the number of customers not having loan\n",
    "- The number of customers using Cellular Service is more than the number of customers using Telephone Service\n",
    "- The number of customers getting convereted in May, followed by July, August and November\n",
    "- Most customers got converted on Thursdays and Mondays\n",
    "- The distribution of values in emp.var.rate, cons.price.idx, cons,conf.idx, euribor3m, nr.employed is not normal\n",
    "- The dataset is imbalanced as the value of leads not getting convered is many times higher than values getting converted\n",
    "- The average age of our customer is 40 with unit std deviation of 10\n",
    "- There is high multicolineraity between euribor3m and nr.employed\n",
    "- The three jobs which gave us most converted leads is Admin, Blue-Collar and Technician\n",
    "- The most converted leads are Married\n",
    "- A cellular Service using Customer contacted in the month of May on a Thursday is highly likely to be converted, followed by Mondays and Tuesdays\n",
    "- A customer Married, working in Admin with a University Degree had the highest chance of conversion, followed by Single and University Degree\n",
    "- A Customer not having a loan has a higher chance of conversion"
   ]
  },
  {
   "cell_type": "markdown",
   "id": "70064784",
   "metadata": {},
   "source": [
    "### Data Processing"
   ]
  },
  {
   "cell_type": "markdown",
   "id": "10e007c7",
   "metadata": {},
   "source": [
    "#### Applying OneHot Encoding on Categorical Columns"
   ]
  },
  {
   "cell_type": "code",
   "execution_count": 31,
   "id": "86d013b6",
   "metadata": {},
   "outputs": [],
   "source": [
    "df1 = pd.get_dummies(df, columns= [feature for feature in df.columns if df[feature].dtype== 'O'])"
   ]
  },
  {
   "cell_type": "markdown",
   "id": "f2b96a04",
   "metadata": {},
   "source": [
    "#### Dropping Target Columns"
   ]
  },
  {
   "cell_type": "code",
   "execution_count": 34,
   "id": "b15f8be5",
   "metadata": {},
   "outputs": [],
   "source": [
    "df1.drop(columns=['y_no','y_yes'],inplace=True)"
   ]
  },
  {
   "cell_type": "code",
   "execution_count": 36,
   "id": "a7958089",
   "metadata": {},
   "outputs": [
    {
     "data": {
      "text/html": [
       "<div>\n",
       "<style scoped>\n",
       "    .dataframe tbody tr th:only-of-type {\n",
       "        vertical-align: middle;\n",
       "    }\n",
       "\n",
       "    .dataframe tbody tr th {\n",
       "        vertical-align: top;\n",
       "    }\n",
       "\n",
       "    .dataframe thead th {\n",
       "        text-align: right;\n",
       "    }\n",
       "</style>\n",
       "<table border=\"1\" class=\"dataframe\">\n",
       "  <thead>\n",
       "    <tr style=\"text-align: right;\">\n",
       "      <th></th>\n",
       "      <th>age</th>\n",
       "      <th>duration</th>\n",
       "      <th>campaign</th>\n",
       "      <th>pdays</th>\n",
       "      <th>previous</th>\n",
       "      <th>emp.var.rate</th>\n",
       "      <th>cons.price.idx</th>\n",
       "      <th>cons.conf.idx</th>\n",
       "      <th>euribor3m</th>\n",
       "      <th>nr.employed</th>\n",
       "      <th>...</th>\n",
       "      <th>month_oct</th>\n",
       "      <th>month_sep</th>\n",
       "      <th>day_of_week_fri</th>\n",
       "      <th>day_of_week_mon</th>\n",
       "      <th>day_of_week_thu</th>\n",
       "      <th>day_of_week_tue</th>\n",
       "      <th>day_of_week_wed</th>\n",
       "      <th>poutcome_failure</th>\n",
       "      <th>poutcome_nonexistent</th>\n",
       "      <th>poutcome_success</th>\n",
       "    </tr>\n",
       "  </thead>\n",
       "  <tbody>\n",
       "    <tr>\n",
       "      <th>0</th>\n",
       "      <td>56</td>\n",
       "      <td>261</td>\n",
       "      <td>1</td>\n",
       "      <td>999</td>\n",
       "      <td>0</td>\n",
       "      <td>1.1</td>\n",
       "      <td>93.994</td>\n",
       "      <td>-36.4</td>\n",
       "      <td>4.857</td>\n",
       "      <td>5191.0</td>\n",
       "      <td>...</td>\n",
       "      <td>0</td>\n",
       "      <td>0</td>\n",
       "      <td>0</td>\n",
       "      <td>1</td>\n",
       "      <td>0</td>\n",
       "      <td>0</td>\n",
       "      <td>0</td>\n",
       "      <td>0</td>\n",
       "      <td>1</td>\n",
       "      <td>0</td>\n",
       "    </tr>\n",
       "    <tr>\n",
       "      <th>1</th>\n",
       "      <td>57</td>\n",
       "      <td>149</td>\n",
       "      <td>1</td>\n",
       "      <td>999</td>\n",
       "      <td>0</td>\n",
       "      <td>1.1</td>\n",
       "      <td>93.994</td>\n",
       "      <td>-36.4</td>\n",
       "      <td>4.857</td>\n",
       "      <td>5191.0</td>\n",
       "      <td>...</td>\n",
       "      <td>0</td>\n",
       "      <td>0</td>\n",
       "      <td>0</td>\n",
       "      <td>1</td>\n",
       "      <td>0</td>\n",
       "      <td>0</td>\n",
       "      <td>0</td>\n",
       "      <td>0</td>\n",
       "      <td>1</td>\n",
       "      <td>0</td>\n",
       "    </tr>\n",
       "    <tr>\n",
       "      <th>2</th>\n",
       "      <td>37</td>\n",
       "      <td>226</td>\n",
       "      <td>1</td>\n",
       "      <td>999</td>\n",
       "      <td>0</td>\n",
       "      <td>1.1</td>\n",
       "      <td>93.994</td>\n",
       "      <td>-36.4</td>\n",
       "      <td>4.857</td>\n",
       "      <td>5191.0</td>\n",
       "      <td>...</td>\n",
       "      <td>0</td>\n",
       "      <td>0</td>\n",
       "      <td>0</td>\n",
       "      <td>1</td>\n",
       "      <td>0</td>\n",
       "      <td>0</td>\n",
       "      <td>0</td>\n",
       "      <td>0</td>\n",
       "      <td>1</td>\n",
       "      <td>0</td>\n",
       "    </tr>\n",
       "    <tr>\n",
       "      <th>3</th>\n",
       "      <td>40</td>\n",
       "      <td>151</td>\n",
       "      <td>1</td>\n",
       "      <td>999</td>\n",
       "      <td>0</td>\n",
       "      <td>1.1</td>\n",
       "      <td>93.994</td>\n",
       "      <td>-36.4</td>\n",
       "      <td>4.857</td>\n",
       "      <td>5191.0</td>\n",
       "      <td>...</td>\n",
       "      <td>0</td>\n",
       "      <td>0</td>\n",
       "      <td>0</td>\n",
       "      <td>1</td>\n",
       "      <td>0</td>\n",
       "      <td>0</td>\n",
       "      <td>0</td>\n",
       "      <td>0</td>\n",
       "      <td>1</td>\n",
       "      <td>0</td>\n",
       "    </tr>\n",
       "    <tr>\n",
       "      <th>4</th>\n",
       "      <td>56</td>\n",
       "      <td>307</td>\n",
       "      <td>1</td>\n",
       "      <td>999</td>\n",
       "      <td>0</td>\n",
       "      <td>1.1</td>\n",
       "      <td>93.994</td>\n",
       "      <td>-36.4</td>\n",
       "      <td>4.857</td>\n",
       "      <td>5191.0</td>\n",
       "      <td>...</td>\n",
       "      <td>0</td>\n",
       "      <td>0</td>\n",
       "      <td>0</td>\n",
       "      <td>1</td>\n",
       "      <td>0</td>\n",
       "      <td>0</td>\n",
       "      <td>0</td>\n",
       "      <td>0</td>\n",
       "      <td>1</td>\n",
       "      <td>0</td>\n",
       "    </tr>\n",
       "  </tbody>\n",
       "</table>\n",
       "<p>5 rows × 63 columns</p>\n",
       "</div>"
      ],
      "text/plain": [
       "   age  duration  campaign  pdays  previous  emp.var.rate  cons.price.idx  \\\n",
       "0   56       261         1    999         0           1.1          93.994   \n",
       "1   57       149         1    999         0           1.1          93.994   \n",
       "2   37       226         1    999         0           1.1          93.994   \n",
       "3   40       151         1    999         0           1.1          93.994   \n",
       "4   56       307         1    999         0           1.1          93.994   \n",
       "\n",
       "   cons.conf.idx  euribor3m  nr.employed  ...  month_oct  month_sep  \\\n",
       "0          -36.4      4.857       5191.0  ...          0          0   \n",
       "1          -36.4      4.857       5191.0  ...          0          0   \n",
       "2          -36.4      4.857       5191.0  ...          0          0   \n",
       "3          -36.4      4.857       5191.0  ...          0          0   \n",
       "4          -36.4      4.857       5191.0  ...          0          0   \n",
       "\n",
       "   day_of_week_fri  day_of_week_mon  day_of_week_thu  day_of_week_tue  \\\n",
       "0                0                1                0                0   \n",
       "1                0                1                0                0   \n",
       "2                0                1                0                0   \n",
       "3                0                1                0                0   \n",
       "4                0                1                0                0   \n",
       "\n",
       "   day_of_week_wed  poutcome_failure  poutcome_nonexistent  poutcome_success  \n",
       "0                0                 0                     1                 0  \n",
       "1                0                 0                     1                 0  \n",
       "2                0                 0                     1                 0  \n",
       "3                0                 0                     1                 0  \n",
       "4                0                 0                     1                 0  \n",
       "\n",
       "[5 rows x 63 columns]"
      ]
     },
     "execution_count": 36,
     "metadata": {},
     "output_type": "execute_result"
    }
   ],
   "source": [
    "df1.head(5)"
   ]
  },
  {
   "cell_type": "markdown",
   "id": "6804a94e",
   "metadata": {},
   "source": [
    "### Data Transformation"
   ]
  },
  {
   "cell_type": "code",
   "execution_count": 50,
   "id": "d7b25280",
   "metadata": {},
   "outputs": [],
   "source": [
    "X = df1.copy()"
   ]
  },
  {
   "cell_type": "code",
   "execution_count": 57,
   "id": "ba11e4b6",
   "metadata": {},
   "outputs": [
    {
     "data": {
      "text/plain": [
       "(41188, 63)"
      ]
     },
     "execution_count": 57,
     "metadata": {},
     "output_type": "execute_result"
    }
   ],
   "source": [
    "df1.shape"
   ]
  },
  {
   "attachments": {},
   "cell_type": "markdown",
   "id": "85badefc",
   "metadata": {},
   "source": [
    "The different Transformation techniques to scale our data are:\n",
    "\n",
    "- Standard Scaler : X - Xmean / StdDev\n",
    "- MinMax Scaler : X - Xmin / Xmax - Xmin\n",
    "- Robust Scaler : X - Xmedian / IQR\n",
    "- Normalization : X - Xmean / Xmax - Xmin\n",
    "\n",
    "From Graphical Analysis we can see that our numerical features are skwewed and also have outliers hence we use Robust Scaling."
   ]
  },
  {
   "cell_type": "code",
   "execution_count": 320,
   "id": "658db6d8",
   "metadata": {},
   "outputs": [],
   "source": [
    "#Importing Libraries\n",
    "from sklearn.preprocessing import StandardScaler, MinMaxScaler,RobustScaler\n",
    "robustscaler = RobustScaler()\n",
    "X = robustscaler.fit_transform(X)"
   ]
  },
  {
   "cell_type": "code",
   "execution_count": 316,
   "id": "16a1a76a",
   "metadata": {},
   "outputs": [
    {
     "data": {
      "text/plain": [
       "array([[ 1.2       ,  0.37327189, -0.5       , ...,  0.        ,\n",
       "         0.        ,  0.        ],\n",
       "       [ 1.26666667, -0.14285714, -0.5       , ...,  0.        ,\n",
       "         0.        ,  0.        ],\n",
       "       [-0.06666667,  0.21198157, -0.5       , ...,  0.        ,\n",
       "         0.        ,  0.        ],\n",
       "       ...,\n",
       "       [ 1.2       ,  0.04147465,  0.        , ...,  0.        ,\n",
       "         0.        ,  0.        ],\n",
       "       [ 0.4       ,  1.20737327, -0.5       , ...,  0.        ,\n",
       "         0.        ,  0.        ],\n",
       "       [ 2.4       ,  0.2718894 ,  0.5       , ...,  1.        ,\n",
       "        -1.        ,  0.        ]])"
      ]
     },
     "execution_count": 316,
     "metadata": {},
     "output_type": "execute_result"
    }
   ],
   "source": [
    "X"
   ]
  },
  {
   "cell_type": "code",
   "execution_count": 321,
   "id": "3546a473",
   "metadata": {},
   "outputs": [
    {
     "data": {
      "text/plain": [
       "(41188, 63)"
      ]
     },
     "execution_count": 321,
     "metadata": {},
     "output_type": "execute_result"
    }
   ],
   "source": [
    "X.shape"
   ]
  },
  {
   "cell_type": "markdown",
   "id": "f9d1f48f",
   "metadata": {},
   "source": [
    "#### Printing Target Variable y"
   ]
  },
  {
   "cell_type": "code",
   "execution_count": 317,
   "id": "c6e6063f",
   "metadata": {},
   "outputs": [],
   "source": [
    "y = df['y']"
   ]
  },
  {
   "cell_type": "code",
   "execution_count": 322,
   "id": "4f525bad",
   "metadata": {},
   "outputs": [
    {
     "data": {
      "text/plain": [
       "(41188,)"
      ]
     },
     "execution_count": 322,
     "metadata": {},
     "output_type": "execute_result"
    }
   ],
   "source": [
    "y.shape"
   ]
  },
  {
   "cell_type": "markdown",
   "id": "e0c6ca5f",
   "metadata": {},
   "source": [
    "#### Replacing \"yes\" and \"no\" values with 0 and 1"
   ]
  },
  {
   "cell_type": "code",
   "execution_count": 42,
   "id": "1348f429",
   "metadata": {},
   "outputs": [],
   "source": [
    "#Positive Label is yes and Negative Label is no\n",
    "y = y.replace({'no':'0' , 'yes':'1'})"
   ]
  },
  {
   "cell_type": "markdown",
   "id": "42aa9984",
   "metadata": {},
   "source": [
    "### Balancing Data"
   ]
  },
  {
   "cell_type": "markdown",
   "id": "d1c083c0",
   "metadata": {},
   "source": [
    "`We will be using the SMOTETomek Technique to balance the dataset with sampling strategy as minority. Where in we upsample the minority class using K nearest neighbors technique`\n",
    "\n",
    "- Ramdom Sampling ( UpSamping and DownSampling)\n",
    "- SOMTE Technique\n",
    "- Balanced Weights"
   ]
  },
  {
   "cell_type": "code",
   "execution_count": 55,
   "id": "295b8cb1",
   "metadata": {},
   "outputs": [
    {
     "name": "stderr",
     "output_type": "stream",
     "text": [
      "D:\\Anaconda\\lib\\site-packages\\imblearn\\over_sampling\\_smote\\base.py:336: FutureWarning: The parameter `n_jobs` has been deprecated in 0.10 and will be removed in 0.12. You can pass an nearest neighbors estimator where `n_jobs` is already set instead.\n",
      "  warnings.warn(\n"
     ]
    }
   ],
   "source": [
    "from imblearn.combine import SMOTETomek\n",
    "\n",
    "# Resampling the minority class. The strategy can be changed as required.\n",
    "smt = SMOTETomek(random_state=42,sampling_strategy='minority',n_jobs=-1)\n",
    "# Fit the model to generate the data.\n",
    "X_res, y_res = smt.fit_resample(X, y)"
   ]
  },
  {
   "cell_type": "code",
   "execution_count": 319,
   "id": "d42cf5b7",
   "metadata": {},
   "outputs": [
    {
     "name": "stdout",
     "output_type": "stream",
     "text": [
      "Shape of X and y before sampling:  (41188, 63) (41188,)\n",
      "no     36548\n",
      "yes     4640\n",
      "Name: y, dtype: int64\n",
      "Shape of X_res and y_res after sampling :  (72346, 63) (72346,)\n",
      "0    36173\n",
      "1    36173\n",
      "Name: y, dtype: int64\n"
     ]
    }
   ],
   "source": [
    "print(\"Shape of X and y before sampling: \", X.shape,y.shape)\n",
    "print(y.value_counts())\n",
    "print(\"Shape of X_res and y_res after sampling : \", X_res.shape,y_res.shape)\n",
    "print(y_res.value_counts())"
   ]
  },
  {
   "cell_type": "markdown",
   "id": "4ddd0934",
   "metadata": {},
   "source": [
    "### Model Building\n",
    "\n",
    "The different classification models used to train and test our dataset are:\n",
    "\n",
    "- Logistic Regression Classifier\n",
    "- Decision Tree Classifiers\n",
    "- KNeighbours Classifiers\n",
    "- Navie Bayes Classifier\n",
    "- Adaboost Classifier\n",
    "- Xgboost Classifier\n",
    "- Random Forest Classifier\n",
    "- Support Vector Classifier\n",
    "\n",
    "We are selecting the model on the below scores:\n",
    "\n",
    "- Accuracy\n",
    "- Precision\n",
    "- Recall\n",
    "- F1 Score\n",
    "- AUCROC Curve\n",
    "- Cost"
   ]
  },
  {
   "cell_type": "code",
   "execution_count": 73,
   "id": "4415a4cf",
   "metadata": {},
   "outputs": [],
   "source": [
    "#Splitting Dataset into Train and Test sets\n",
    "from sklearn.model_selection import train_test_split"
   ]
  },
  {
   "cell_type": "code",
   "execution_count": 75,
   "id": "9f4db1d8",
   "metadata": {},
   "outputs": [],
   "source": [
    "#splitting dataset into 70:30 Ration\n",
    "X_train,X_test,y_train,y_test = train_test_split(X_res,y_res,test_size=0.3, random_state=0)"
   ]
  },
  {
   "cell_type": "code",
   "execution_count": 76,
   "id": "92d9b5d2",
   "metadata": {},
   "outputs": [
    {
     "name": "stdout",
     "output_type": "stream",
     "text": [
      "Shape of X_train and y_train :  (50642, 63) (50642,)\n",
      "Shape of X_test and y_test :  (21704, 63) (21704,)\n"
     ]
    }
   ],
   "source": [
    "print(\"Shape of X_train and y_train : \", X_train.shape,y_train.shape)\n",
    "print(\"Shape of X_test and y_test : \", X_test.shape,y_test.shape)"
   ]
  },
  {
   "cell_type": "markdown",
   "id": "9eb4e59c",
   "metadata": {},
   "source": [
    "#### Implementing all models with accuracy scores"
   ]
  },
  {
   "cell_type": "code",
   "execution_count": 328,
   "id": "7f3fdb0e",
   "metadata": {},
   "outputs": [],
   "source": [
    "from sklearn.linear_model import LogisticRegression\n",
    "from sklearn.ensemble import RandomForestClassifier, AdaBoostClassifier, GradientBoostingClassifier\n",
    "from sklearn.neighbors import KNeighborsClassifier\n",
    "from sklearn.tree import DecisionTreeClassifier\n",
    "from sklearn.svm import SVC\n",
    "from sklearn.naive_bayes import GaussianNB\n",
    "from sklearn.metrics import accuracy_score, classification_report,ConfusionMatrixDisplay, \\\n",
    "                            precision_score, recall_score, f1_score, roc_auc_score,roc_curve,confusion_matrix\n",
    "from sklearn import metrics \n",
    "from sklearn.model_selection import  train_test_split, RepeatedStratifiedKFold, cross_val_score\n",
    "from sklearn.preprocessing import OneHotEncoder, MinMaxScaler"
   ]
  },
  {
   "cell_type": "code",
   "execution_count": 341,
   "id": "187c726b",
   "metadata": {},
   "outputs": [],
   "source": [
    "# Dictionary which contains models for experiment\n",
    "models = {\n",
    "    \"Logistic Regression\": LogisticRegression(),\n",
    "    \"Random Forest\": RandomForestClassifier(),\n",
    "    \"Decision Tree\": DecisionTreeClassifier(),\n",
    "    \"Gradient Boosting\": GradientBoostingClassifier(),\n",
    "     \"K-Neighbors Classifier\": KNeighborsClassifier(),\n",
    "    \"AdaBoost Classifier\": AdaBoostClassifier(),\n",
    "    \"SVC\" : SVC(),\n",
    "    \"GNB\" : GaussianNB()    \n",
    "}"
   ]
  },
  {
   "cell_type": "code",
   "execution_count": 342,
   "id": "46ac7304",
   "metadata": {},
   "outputs": [],
   "source": [
    "#Creating a function to apply all models on the newly created dataset\n",
    "def evaluate_models(X_train, X_test, y_train, y_test, models):\n",
    "    '''\n",
    "    This function takes in X and y and models dictionary as input\n",
    "    It splits the data into Train Test split\n",
    "    Iterates through the given model dictionary and evaluates the metrics\n",
    "    Returns: Dataframe which contains report of all models metrics with cost\n",
    "    '''\n",
    "    cost_list=[]\n",
    "    models_list = []\n",
    "    accuracy_list = []\n",
    "    \n",
    "    for i in range(len(list(models))):\n",
    "        model = list(models.values())[i]\n",
    "        model.fit(X_train, y_train) # Train model\n",
    "\n",
    "        # Make predictions\n",
    "        y_pred = model.predict(X_test)\n",
    "        \n",
    "        accuracy = accuracy_score(y_test,y_pred)\n",
    "        recall = recall_score(y_test,y_pred,pos_label=\"1\")\n",
    "        precision = precision_score(y_test,y_pred,pos_label=\"1\")\n",
    "        f1 = f1_score(y_test,y_pred,pos_label=\"1\")\n",
    "        roc_auc = roc_auc_score(y_test,y_pred)\n",
    "        tn, fp, fn, tp = confusion_matrix(y_test,y_pred).ravel()\n",
    "        cost = 10*fp + 500*fn\n",
    "        \n",
    "        print(list(models.keys())[i])\n",
    "        models_list.append(list(models.keys())[i])\n",
    "        \n",
    "        print(\"Model accuracy score:\",'{:.2f}'.format(accuracy))\n",
    "        print(\"Model f1_score:\",'{:.2f}'.format(f1))\n",
    "        print(\"Model precision_score:\",'{:.2f}'.format(precision))\n",
    "        print(\"Model recall_score:\",'{:.2f}'.format(recall))\n",
    "        print(\"Model roc_auc_score:\",'{:.2f}'.format(roc_auc)) \n",
    "        print(\"Model cost :\",'{:.2f}'.format(cost))\n",
    "        print(\"**********************************************************************\")"
   ]
  },
  {
   "cell_type": "code",
   "execution_count": 343,
   "id": "ba2b1423",
   "metadata": {},
   "outputs": [
    {
     "name": "stderr",
     "output_type": "stream",
     "text": [
      "D:\\Anaconda\\lib\\site-packages\\sklearn\\linear_model\\_logistic.py:814: ConvergenceWarning: lbfgs failed to converge (status=1):\n",
      "STOP: TOTAL NO. of ITERATIONS REACHED LIMIT.\n",
      "\n",
      "Increase the number of iterations (max_iter) or scale the data as shown in:\n",
      "    https://scikit-learn.org/stable/modules/preprocessing.html\n",
      "Please also refer to the documentation for alternative solver options:\n",
      "    https://scikit-learn.org/stable/modules/linear_model.html#logistic-regression\n",
      "  n_iter_i = _check_optimize_result(\n"
     ]
    },
    {
     "name": "stdout",
     "output_type": "stream",
     "text": [
      "Logistic Regression\n",
      "Model accuracy score: 0.88\n",
      "Model f1_score: 0.89\n",
      "Model precision_score: 0.87\n",
      "Model recall_score: 0.90\n",
      "Model roc_auc_score: 0.88\n",
      "Model cost : 545150.00\n",
      "**********************************************************************\n",
      "Random Forest\n",
      "Model accuracy score: 0.96\n",
      "Model f1_score: 0.96\n",
      "Model precision_score: 0.94\n",
      "Model recall_score: 0.98\n",
      "Model roc_auc_score: 0.96\n",
      "Model cost : 134570.00\n",
      "**********************************************************************\n",
      "Decision Tree\n",
      "Model accuracy score: 0.92\n",
      "Model f1_score: 0.93\n",
      "Model precision_score: 0.92\n",
      "Model recall_score: 0.93\n",
      "Model roc_auc_score: 0.92\n",
      "Model cost : 388220.00\n",
      "**********************************************************************\n",
      "Gradient Boosting\n",
      "Model accuracy score: 0.93\n",
      "Model f1_score: 0.93\n",
      "Model precision_score: 0.90\n",
      "Model recall_score: 0.96\n",
      "Model roc_auc_score: 0.93\n",
      "Model cost : 242530.00\n",
      "**********************************************************************\n",
      "K-Neighbors Classifier\n",
      "Model accuracy score: 0.84\n",
      "Model f1_score: 0.86\n",
      "Model precision_score: 0.79\n",
      "Model recall_score: 0.93\n",
      "Model roc_auc_score: 0.84\n",
      "Model cost : 409220.00\n",
      "**********************************************************************\n",
      "AdaBoost Classifier\n",
      "Model accuracy score: 0.91\n",
      "Model f1_score: 0.91\n",
      "Model precision_score: 0.91\n",
      "Model recall_score: 0.91\n",
      "Model roc_auc_score: 0.91\n",
      "Model cost : 502090.00\n",
      "**********************************************************************\n",
      "SVC\n",
      "Model accuracy score: 0.93\n",
      "Model f1_score: 0.93\n",
      "Model precision_score: 0.92\n",
      "Model recall_score: 0.95\n",
      "Model roc_auc_score: 0.93\n",
      "Model cost : 306940.00\n",
      "**********************************************************************\n",
      "GNB\n",
      "Model accuracy score: 0.77\n",
      "Model f1_score: 0.78\n",
      "Model precision_score: 0.76\n",
      "Model recall_score: 0.79\n",
      "Model roc_auc_score: 0.77\n",
      "Model cost : 1195010.00\n",
      "**********************************************************************\n"
     ]
    },
    {
     "name": "stderr",
     "output_type": "stream",
     "text": [
      "D:\\Anaconda\\lib\\site-packages\\sklearn\\metrics\\_ranking.py:546: FutureWarning: Arrays of bytes/strings is being converted to decimal numbers if dtype='numeric'. This behavior is deprecated in 0.24 and will be removed in 1.1 (renaming of 0.26). Please convert your data to numeric values explicitly instead.\n",
      "  y_score = check_array(y_score, ensure_2d=False)\n"
     ]
    }
   ],
   "source": [
    "# Evaluating all Models with SMOTEK strategy\n",
    "evaluate_models(X_train, X_test, y_train, y_test, models)"
   ]
  },
  {
   "cell_type": "markdown",
   "id": "66d20192",
   "metadata": {},
   "source": [
    "Observation:\n",
    "\n",
    "From the above Analysis we can observe that two models give us highest F1 Score and Precision value that is Ramdom Forest and Gradient Boosting. Between these two models the model recall score is high for Ramdom Forest and cost is less for random forest as compared to Gradient Boosting. Hence we select `Random Forest` as our Model for implementation."
   ]
  },
  {
   "cell_type": "markdown",
   "id": "7a385460",
   "metadata": {},
   "source": [
    "### Implementing Final Model and Predicting Values using Hyperparamenter Tunining"
   ]
  },
  {
   "cell_type": "code",
   "execution_count": 348,
   "id": "cc714fb7",
   "metadata": {},
   "outputs": [],
   "source": [
    "from sklearn.ensemble import RandomForestClassifier\n",
    "from pprint import pprint\n",
    "rf= RandomForestClassifier(random_state=42)"
   ]
  },
  {
   "cell_type": "code",
   "execution_count": 350,
   "id": "67d37fe9",
   "metadata": {},
   "outputs": [
    {
     "name": "stdout",
     "output_type": "stream",
     "text": [
      "Paramenters currently in use:\n",
      "\n",
      "{'bootstrap': True,\n",
      " 'ccp_alpha': 0.0,\n",
      " 'class_weight': None,\n",
      " 'criterion': 'gini',\n",
      " 'max_depth': None,\n",
      " 'max_features': 'auto',\n",
      " 'max_leaf_nodes': None,\n",
      " 'max_samples': None,\n",
      " 'min_impurity_decrease': 0.0,\n",
      " 'min_samples_leaf': 1,\n",
      " 'min_samples_split': 2,\n",
      " 'min_weight_fraction_leaf': 0.0,\n",
      " 'n_estimators': 100,\n",
      " 'n_jobs': None,\n",
      " 'oob_score': False,\n",
      " 'random_state': 42,\n",
      " 'verbose': 0,\n",
      " 'warm_start': False}\n"
     ]
    }
   ],
   "source": [
    "#Look at the paramenters from our current forest\n",
    "print(\"Paramenters currently in use:\\n\")\n",
    "pprint(rf.get_params())"
   ]
  },
  {
   "cell_type": "markdown",
   "id": "3f345d98",
   "metadata": {},
   "source": [
    "Important Params from the above list are `n_estimators` , `max_features`, `max_depth`, `min_samples_split`, `min_samples_leaf` and `bootstrap`"
   ]
  },
  {
   "cell_type": "markdown",
   "id": "8ec36100",
   "metadata": {},
   "source": [
    "#### Random Hyperparameter Grid"
   ]
  },
  {
   "cell_type": "code",
   "execution_count": 351,
   "id": "dac4eeed",
   "metadata": {},
   "outputs": [],
   "source": [
    "#Importing RandomSearchCV from sklearn Library\n",
    "from sklearn.model_selection import RandomizedSearchCV"
   ]
  },
  {
   "cell_type": "code",
   "execution_count": 360,
   "id": "9ef098e5",
   "metadata": {},
   "outputs": [],
   "source": [
    "#Creating Grid Parameters\n",
    "\n",
    "n_estimators = [int(x) for x in np.linspace(start = 200, stop = 2000, num = 10)]\n",
    "max_features = ['auto', 'sqrt']\n",
    "max_depth = [int(x) for x in np.linspace(10, 110, num = 11)]\n",
    "max_depth.append(None)\n",
    "min_samples_split = [2,5,10]\n",
    "min_samples_leaf = [1,2,4]\n",
    "bootstrap = [True,False]\n"
   ]
  },
  {
   "cell_type": "code",
   "execution_count": 361,
   "id": "122c63e1",
   "metadata": {},
   "outputs": [],
   "source": [
    "random_grid = {'n_estimators': n_estimators,\n",
    "               'max_features': max_features,\n",
    "               'max_depth': max_depth,\n",
    "               'min_samples_split': min_samples_split,\n",
    "               'min_samples_leaf': min_samples_leaf,\n",
    "               'bootstrap': bootstrap}"
   ]
  },
  {
   "cell_type": "code",
   "execution_count": 362,
   "id": "defef3e0",
   "metadata": {},
   "outputs": [
    {
     "name": "stdout",
     "output_type": "stream",
     "text": [
      "{'bootstrap': [True, False],\n",
      " 'max_depth': [10, 20, 30, 40, 50, 60, 70, 80, 90, 100, 110, None],\n",
      " 'max_features': ['auto', 'sqrt'],\n",
      " 'min_samples_leaf': [1, 2, 4],\n",
      " 'min_samples_split': [2, 5, 10],\n",
      " 'n_estimators': [200, 400, 600, 800, 1000, 1200, 1400, 1600, 1800, 2000]}\n"
     ]
    }
   ],
   "source": [
    "pprint(random_grid)"
   ]
  },
  {
   "cell_type": "code",
   "execution_count": 375,
   "id": "3b9b9c0d",
   "metadata": {},
   "outputs": [],
   "source": [
    "rf_random = RandomizedSearchCV( estimator = rf, param_distributions = random_grid, n_iter = 30, cv = 3, verbose = 2, \n",
    "                              random_state = 42, n_jobs = -1)"
   ]
  },
  {
   "cell_type": "code",
   "execution_count": 376,
   "id": "e264ab78",
   "metadata": {},
   "outputs": [
    {
     "name": "stdout",
     "output_type": "stream",
     "text": [
      "Fitting 3 folds for each of 30 candidates, totalling 90 fits\n"
     ]
    },
    {
     "data": {
      "text/plain": [
       "RandomizedSearchCV(cv=3, estimator=RandomForestClassifier(random_state=42),\n",
       "                   n_iter=30, n_jobs=-1,\n",
       "                   param_distributions={'bootstrap': [True, False],\n",
       "                                        'max_depth': [10, 20, 30, 40, 50, 60,\n",
       "                                                      70, 80, 90, 100, 110,\n",
       "                                                      None],\n",
       "                                        'max_features': ['auto', 'sqrt'],\n",
       "                                        'min_samples_leaf': [1, 2, 4],\n",
       "                                        'min_samples_split': [2, 5, 10],\n",
       "                                        'n_estimators': [200, 400, 600, 800,\n",
       "                                                         1000, 1200, 1400, 1600,\n",
       "                                                         1800, 2000]},\n",
       "                   random_state=42, verbose=2)"
      ]
     },
     "execution_count": 376,
     "metadata": {},
     "output_type": "execute_result"
    }
   ],
   "source": [
    "rf_random.fit(X_train,y_train)"
   ]
  },
  {
   "cell_type": "code",
   "execution_count": 378,
   "id": "acd13338",
   "metadata": {},
   "outputs": [
    {
     "data": {
      "text/plain": [
       "{'n_estimators': 1600,\n",
       " 'min_samples_split': 2,\n",
       " 'min_samples_leaf': 1,\n",
       " 'max_features': 'auto',\n",
       " 'max_depth': 80,\n",
       " 'bootstrap': True}"
      ]
     },
     "execution_count": 378,
     "metadata": {},
     "output_type": "execute_result"
    }
   ],
   "source": [
    "rf_random.best_params_"
   ]
  },
  {
   "cell_type": "markdown",
   "id": "e2d906a5",
   "metadata": {},
   "source": [
    "#### Comparing Base Model with Random Search Model"
   ]
  },
  {
   "cell_type": "code",
   "execution_count": 481,
   "id": "0ecb5b0a",
   "metadata": {},
   "outputs": [],
   "source": [
    "#Write a function which can be applied both on base model and randomsearch model\n",
    "def evaluate(model,X_train,y_test):\n",
    "    predictions = model.predict(X_test)\n",
    "    accuracy = accuracy_score(y_test,predictions)\n",
    "    recall = recall_score(y_test,predictions,pos_label=\"1\")\n",
    "    precision = precision_score(y_test,predictions,pos_label=\"1\")\n",
    "    f1 = f1_score(y_test,predictions,pos_label=\"1\")\n",
    "    print('Model Performance')\n",
    "    print(\"****************************************************\")\n",
    "    print(\"Accuracy of Model is : \", '{:.2f}'.format(accuracy))\n",
    "    print(\"Recall of Model is : \", '{:.2f}'.format(recall))\n",
    "    print(\"Precision of Model is : \", '{:.2f}'.format(precision))\n",
    "    print(\"f1 Score of Model is : \", '{:.2f}'.format(f1))\n"
   ]
  },
  {
   "cell_type": "code",
   "execution_count": 487,
   "id": "feca2bf2",
   "metadata": {},
   "outputs": [
    {
     "data": {
      "text/plain": [
       "RandomForestClassifier(random_state=42)"
      ]
     },
     "execution_count": 487,
     "metadata": {},
     "output_type": "execute_result"
    }
   ],
   "source": [
    "#Instantiating Base Model and fitting it\n",
    "base_model = RandomForestClassifier(n_estimators = 100, random_state = 42)\n",
    "base_model.fit(X_train,y_train)"
   ]
  },
  {
   "cell_type": "code",
   "execution_count": 483,
   "id": "14c4a979",
   "metadata": {},
   "outputs": [
    {
     "name": "stdout",
     "output_type": "stream",
     "text": [
      "Model Performance\n",
      "****************************************************\n",
      "Accuracy of Model is :  0.96\n",
      "Recall of Model is :  0.98\n",
      "Precision of Model is :  0.94\n",
      "f1 Score of Model is :  0.96\n"
     ]
    }
   ],
   "source": [
    "#Checking Metrics for Base Model\n",
    "evaluate(base_model,X_test,y_test)"
   ]
  },
  {
   "cell_type": "code",
   "execution_count": 484,
   "id": "65bc4658",
   "metadata": {},
   "outputs": [],
   "source": [
    "#Instantiating Random Search Model\n",
    "randomsearch_model = RandomForestClassifier(n_estimators = 1600, \n",
    "                                    min_samples_split = 2,\n",
    "                                    min_samples_leaf = 1,\n",
    "                                    max_depth = 80,\n",
    "                                    bootstrap = True)"
   ]
  },
  {
   "cell_type": "code",
   "execution_count": 485,
   "id": "2eb86221",
   "metadata": {},
   "outputs": [
    {
     "data": {
      "text/plain": [
       "RandomForestClassifier(max_depth=80, n_estimators=1600)"
      ]
     },
     "execution_count": 485,
     "metadata": {},
     "output_type": "execute_result"
    }
   ],
   "source": [
    "#Fitting RandomSearch Model\n",
    "randomsearch_model.fit(X_train,y_train)"
   ]
  },
  {
   "cell_type": "code",
   "execution_count": 488,
   "id": "07aedffb",
   "metadata": {},
   "outputs": [
    {
     "name": "stdout",
     "output_type": "stream",
     "text": [
      "Model Performance\n",
      "****************************************************\n",
      "Accuracy of Model is :  0.96\n",
      "Recall of Model is :  0.98\n",
      "Precision of Model is :  0.94\n",
      "f1 Score of Model is :  0.96\n"
     ]
    }
   ],
   "source": [
    "#Checking evaluating metrics\n",
    "evaluate(randomsearch_model,X_test,y_test)"
   ]
  },
  {
   "cell_type": "markdown",
   "id": "a2ace6cc",
   "metadata": {},
   "source": [
    "The accuracy scores for both the base model and RandomSearch Model are same. This is the result as we have did RandomSearch for limited number of calculations. If we want to improve accuracy of the model we need to `increase the number of K-folds and number of iterations`."
   ]
  },
  {
   "cell_type": "markdown",
   "id": "4fda584b",
   "metadata": {},
   "source": [
    "#### Plotting Confusion Matrix and AUCROC Curve for RandomSearch Model"
   ]
  },
  {
   "cell_type": "code",
   "execution_count": 432,
   "id": "1400cb40",
   "metadata": {},
   "outputs": [],
   "source": [
    "#Imporing Libraries\n",
    "from sklearn.metrics import confusion_matrix\n",
    "import matplotlib.pyplot as plt"
   ]
  },
  {
   "cell_type": "code",
   "execution_count": 443,
   "id": "6b3d9905",
   "metadata": {},
   "outputs": [],
   "source": [
    "#Instantiating metrics\n",
    "matrix = metrics.confusion_matrix(predictions,y_test)"
   ]
  },
  {
   "cell_type": "code",
   "execution_count": 489,
   "id": "55ee3e5c",
   "metadata": {},
   "outputs": [
    {
     "data": {
      "text/plain": [
       "array([[10086,   250],\n",
       "       [  662, 10706]], dtype=int64)"
      ]
     },
     "execution_count": 489,
     "metadata": {},
     "output_type": "execute_result"
    }
   ],
   "source": [
    "#Displayin matrix\n",
    "matrix"
   ]
  },
  {
   "cell_type": "code",
   "execution_count": 477,
   "id": "ecf5f2e7",
   "metadata": {},
   "outputs": [],
   "source": [
    "# Instantiate confusion matrix\n",
    "disp = ConfusionMatrixDisplay(confusion_matrix=matrix,                               \n",
    "                              display_labels=randomsearch_model.classes_)"
   ]
  },
  {
   "cell_type": "code",
   "execution_count": 490,
   "id": "72a5eae4",
   "metadata": {},
   "outputs": [
    {
     "data": {
      "text/plain": [
       "<sklearn.metrics._plot.confusion_matrix.ConfusionMatrixDisplay at 0x14c3e1110a0>"
      ]
     },
     "execution_count": 490,
     "metadata": {},
     "output_type": "execute_result"
    },
    {
     "data": {
      "image/png": "[encoded data removed]",
      "text/plain": [
       "<Figure size 432x288 with 2 Axes>"
      ]
     },
     "metadata": {
      "needs_background": "light"
     },
     "output_type": "display_data"
    }
   ],
   "source": [
    "#Plotting confusion Matrix\n",
    "from matplotlib.pyplot import figure\n",
    "disp.plot()"
   ]
  },
  {
   "cell_type": "code",
   "execution_count": 491,
   "id": "b955eb09",
   "metadata": {},
   "outputs": [
    {
     "name": "stderr",
     "output_type": "stream",
     "text": [
      "D:\\Anaconda\\lib\\site-packages\\sklearn\\utils\\deprecation.py:87: FutureWarning: Function plot_roc_curve is deprecated; Function :func:`plot_roc_curve` is deprecated in 1.0 and will be removed in 1.2. Use one of the class methods: :meth:`sklearn.metric.RocCurveDisplay.from_predictions` or :meth:`sklearn.metric.RocCurveDisplay.from_estimator`.\n",
      "  warnings.warn(msg, category=FutureWarning)\n"
     ]
    },
    {
     "data": {
      "text/plain": [
       "<sklearn.metrics._plot.roc_curve.RocCurveDisplay at 0x14c3e332a30>"
      ]
     },
     "execution_count": 491,
     "metadata": {},
     "output_type": "execute_result"
    },
    {
     "data": {
      "image/png": "[encoded data removed]",
      "text/plain": [
       "<Figure size 432x288 with 1 Axes>"
      ]
     },
     "metadata": {
      "needs_background": "light"
     },
     "output_type": "display_data"
    }
   ],
   "source": [
    "#Getting ROC Curve\n",
    "metrics.plot_roc_curve(randomsearch_model, X_test, y_test) "
   ]
  },
  {
   "cell_type": "markdown",
   "id": "fbd2c000",
   "metadata": {},
   "source": [
    "### Results"
   ]
  },
  {
   "cell_type": "markdown",
   "id": "a5dca6b0",
   "metadata": {},
   "source": [
    "We have selected a model with below attributes:\n",
    "\n",
    "- <b> Model Name : </b> Random Forest Classifier\n",
    "- <b> Cost of Implemetation : </b> 134570.00\n",
    "- <b> Recall Score : </b> 0.98\n",
    "- <b> Precision Score : </b> 0.94\n",
    "- <b> F1 Score : </b> 0.96"
   ]
  },
  {
   "cell_type": "markdown",
   "id": "823aec3c",
   "metadata": {},
   "source": [
    "Thank you!!!"
   ]
  }
 ],
 "metadata": {
  "kernelspec": {
   "display_name": "Python 3 (ipykernel)",
   "language": "python",
   "name": "python3"
  },
  "language_info": {
   "codemirror_mode": {
    "name": "ipython",
    "version": 3
   },
   "file_extension": ".py",
   "mimetype": "text/x-python",
   "name": "python",
   "nbconvert_exporter": "python",
   "pygments_lexer": "ipython3",
   "version": "3.9.12"
  }
 },
 "nbformat": 4,
 "nbformat_minor": 5
}
